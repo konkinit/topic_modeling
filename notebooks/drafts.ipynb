{
 "cells": [
  {
   "cell_type": "code",
   "execution_count": 5,
   "metadata": {},
   "outputs": [],
   "source": [
    "import os\n",
    "import warnings\n",
    "from sklearn.datasets import fetch_20newsgroups\n",
    "\n",
    "os.chdir(\"../\")\n",
    "warnings.filterwarnings('ignore')\n",
    "\n",
    "from src.config import *\n",
    "from src.utils import getSentenceTransformers, getEmbeddings"
   ]
  },
  {
   "cell_type": "code",
   "execution_count": 6,
   "metadata": {},
   "outputs": [
    {
     "name": "stderr",
     "output_type": "stream",
     "text": [
      "No sentence-transformers model found with name /home/onyxia/.cache/torch/sentence_transformers/dangvantuan_sentence-camembert-large. Creating a new one with MEAN pooling.\n"
     ]
    },
    {
     "ename": "FileNotFoundError",
     "evalue": "[Errno 2] No such file or directory: './data/embeddings-test-sentence-camembert-large.pkl'",
     "output_type": "error",
     "traceback": [
      "\u001b[0;31m---------------------------------------------------------------------------\u001b[0m",
      "\u001b[0;31mFileNotFoundError\u001b[0m                         Traceback (most recent call last)",
      "Cell \u001b[0;32mIn[6], line 2\u001b[0m\n\u001b[1;32m      1\u001b[0m transformers_params \u001b[39m=\u001b[39m sent_transformers_params()\n\u001b[0;32m----> 2\u001b[0m getEmbeddings(transformers_params, \u001b[39m\"\u001b[39;49m\u001b[39mtest\u001b[39;49m\u001b[39m\"\u001b[39;49m, \u001b[39m\"\u001b[39;49m\u001b[39mje suis un scientifique des données\u001b[39;49m\u001b[39m\"\u001b[39;49m)\n",
      "File \u001b[0;32m~/work/topic_modeling/src/utils.py:39\u001b[0m, in \u001b[0;36mgetEmbeddings\u001b[0;34m(params, docs_name, docs)\u001b[0m\n\u001b[1;32m     37\u001b[0m sentence_model \u001b[39m=\u001b[39m getSentenceTransformers(params)\n\u001b[1;32m     38\u001b[0m embedding_ \u001b[39m=\u001b[39m sentence_model\u001b[39m.\u001b[39mencode(docs, show_progress_bar\u001b[39m=\u001b[39m\u001b[39mFalse\u001b[39;00m)\n\u001b[0;32m---> 39\u001b[0m pkl\u001b[39m.\u001b[39mdump(embedding_, \u001b[39mopen\u001b[39;49m(\u001b[39mf\u001b[39;49m\u001b[39m\"\u001b[39;49m\u001b[39m./\u001b[39;49m\u001b[39m{\u001b[39;49;00mpath_\u001b[39m}\u001b[39;49;00m\u001b[39m\"\u001b[39;49m, \u001b[39m\"\u001b[39;49m\u001b[39mwb\u001b[39;49m\u001b[39m\"\u001b[39;49m))\n\u001b[1;32m     40\u001b[0m \u001b[39mreturn\u001b[39;00m embedding_\n",
      "\u001b[0;31mFileNotFoundError\u001b[0m: [Errno 2] No such file or directory: './data/embeddings-test-sentence-camembert-large.pkl'"
     ]
    }
   ],
   "source": [
    "transformers_params = sent_transformers_params()\n",
    "getEmbeddings(transformers_params, \"test\", \"je suis un scientifique des données\")"
   ]
  },
  {
   "attachments": {},
   "cell_type": "markdown",
   "metadata": {},
   "source": [
    "# BERTopic model draft"
   ]
  },
  {
   "cell_type": "code",
   "execution_count": 4,
   "metadata": {},
   "outputs": [],
   "source": [
    "docs = fetch_20newsgroups(subset='all',  remove=('headers', 'footers', 'quotes'))['data'][:50]"
   ]
  },
  {
   "cell_type": "code",
   "execution_count": null,
   "metadata": {},
   "outputs": [],
   "source": []
  }
 ],
 "metadata": {
  "kernelspec": {
   "display_name": "base",
   "language": "python",
   "name": "python3"
  },
  "language_info": {
   "codemirror_mode": {
    "name": "ipython",
    "version": 3
   },
   "file_extension": ".py",
   "mimetype": "text/x-python",
   "name": "python",
   "nbconvert_exporter": "python",
   "pygments_lexer": "ipython3",
   "version": "3.10.9"
  },
  "orig_nbformat": 4
 },
 "nbformat": 4,
 "nbformat_minor": 2
}
