{
 "cells": [
  {
   "cell_type": "code",
   "execution_count": 1,
   "metadata": {},
   "outputs": [],
   "source": [
    "import os\n",
    "import warnings\n",
    "import pandas as pd\n",
    "\n",
    "from bertopic import BERTopic\n",
    "from sklearn.datasets import fetch_20newsgroups\n",
    "from stop_words import get_stop_words\n",
    "import spacy\n",
    "from nltk import FreqDist\n",
    "\n",
    "os.chdir(\"../\")\n",
    "warnings.filterwarnings(\"ignore\")\n",
    "\n",
    "from src.modeling import BERTopic_\n",
    "from src.config import (\n",
    "    umap_data,\n",
    "    hdbscan_data,\n",
    "    sent_transformers_data,\n",
    "    tfidf_data,\n",
    "    tokenizer_data,\n",
    "    mmr_data,\n",
    "    bertopic_data,\n",
    ")\n",
    "from src.data_preprocess import Preprocessing\n",
    "from src.utils import (\n",
    "    getClusteringModel,\n",
    "    getDimReductionModel,\n",
    "    getMaximalMarginalRelevance,\n",
    "    getTfidfTransformers,\n",
    "    getTokenizer,\n",
    "    getEmbeddings,\n",
    "    getFrequencyDictForText,\n",
    "    create_wordcloud,\n",
    "    global_wordcloud,\n",
    "    context_stopword\n",
    ")"
   ]
  },
  {
   "attachments": {},
   "cell_type": "markdown",
   "metadata": {},
   "source": [
    "# Metadata"
   ]
  },
  {
   "cell_type": "code",
   "execution_count": 2,
   "metadata": {},
   "outputs": [],
   "source": [
    "sample_file_path =  \"./data/chatbot_data_file_sample.csv\"\n",
    "with open(sample_file_path, 'rb') as f:\n",
    "    df_docs = pd.read_csv(f, sep=\"|\", encoding=\"utf-8\")"
   ]
  },
  {
   "cell_type": "code",
   "execution_count": 3,
   "metadata": {},
   "outputs": [
    {
     "data": {
      "text/html": [
       "<div>\n",
       "<style scoped>\n",
       "    .dataframe tbody tr th:only-of-type {\n",
       "        vertical-align: middle;\n",
       "    }\n",
       "\n",
       "    .dataframe tbody tr th {\n",
       "        vertical-align: top;\n",
       "    }\n",
       "\n",
       "    .dataframe thead th {\n",
       "        text-align: right;\n",
       "    }\n",
       "</style>\n",
       "<table border=\"1\" class=\"dataframe\">\n",
       "  <thead>\n",
       "    <tr style=\"text-align: right;\">\n",
       "      <th></th>\n",
       "      <th>date</th>\n",
       "      <th>question</th>\n",
       "    </tr>\n",
       "  </thead>\n",
       "  <tbody>\n",
       "    <tr>\n",
       "      <th>0</th>\n",
       "      <td>2022-08-12</td>\n",
       "      <td>mon numero de carte club n'est pas le bon</td>\n",
       "    </tr>\n",
       "    <tr>\n",
       "      <th>1</th>\n",
       "      <td>2022-12-26</td>\n",
       "      <td>aucune de ces questions.</td>\n",
       "    </tr>\n",
       "    <tr>\n",
       "      <th>2</th>\n",
       "      <td>2023-03-27</td>\n",
       "      <td>jeu24 heure du mans</td>\n",
       "    </tr>\n",
       "    <tr>\n",
       "      <th>3</th>\n",
       "      <td>2023-01-29</td>\n",
       "      <td>ma carte ne cumul pas mes passage</td>\n",
       "    </tr>\n",
       "    <tr>\n",
       "      <th>4</th>\n",
       "      <td>2022-11-12</td>\n",
       "      <td>mot de passe réinitialisé mais toujours pas d'...</td>\n",
       "    </tr>\n",
       "  </tbody>\n",
       "</table>\n",
       "</div>"
      ],
      "text/plain": [
       "         date                                           question\n",
       "0  2022-08-12          mon numero de carte club n'est pas le bon\n",
       "1  2022-12-26                           aucune de ces questions.\n",
       "2  2023-03-27                                jeu24 heure du mans\n",
       "3  2023-01-29                  ma carte ne cumul pas mes passage\n",
       "4  2022-11-12  mot de passe réinitialisé mais toujours pas d'..."
      ]
     },
     "execution_count": 3,
     "metadata": {},
     "output_type": "execute_result"
    }
   ],
   "source": [
    "df_docs.head()"
   ]
  },
  {
   "cell_type": "code",
   "execution_count": 4,
   "metadata": {},
   "outputs": [
    {
     "name": "stdout",
     "output_type": "stream",
     "text": [
      "[('de', 874), ('je', 740), ('carte', 545), ('pas', 483), ('mon', 385), ('ma', 362), ('la', 309), ('le', 286), ('ne', 260), ('à', 237), ('que', 235), ('total', 228), ('?', 218), ('comment', 218), ('et', 198), ('est', 196), (\"j'ai\", 181), ('pour', 176), ('une', 172), ('sur', 168), ('a', 156), ('en', 152), ('club', 149), ('un', 149), ('les', 135), ('compte', 134), ('me', 123), ('mais', 107), ('passe', 101), ('pourquoi', 98), ('mes', 95), ('points', 94), ('il', 93), ('mot', 90), ('faire', 88), ('vous', 88), ('des', 81), ('plus', 80), ('au', 78), ('avec', 75), ('ai', 74), ('suis', 73), ('dans', 73), ('du', 71), ('j’ai', 68), ('mail', 67), ('ce', 64), (\"n'ai\", 61), ('carburant', 60), ('j', 59), ('avoir', 57), ('euros', 56), ('fait', 56), ('peux', 53), ('on', 52), ('reçu', 52), ('aucune', 50), ('cagnotte', 50), ('savoir', 50), ('si', 49), ('autre', 49), ('fonctionne', 49), ('merci', 48), ('station', 48), ('40', 47), ('ces', 45), ('toujours', 45), ('plein', 45), ('rien', 45), ('ou', 44), ('questions.', 43), ('numéro', 43), ('lien', 43), ('valider', 42), ('quand', 42), ('impossible', 41), ('adresse', 41), ('non', 41), ('ça', 40), ('votre', 40), ('qui', 39), ('fois', 37), ('code', 37), ('fidélité', 36), ('cadeau', 36), ('n', 36), ('recevoir', 36), ('voudrais', 35), ('utiliser', 35), ('point', 34), ('contrat', 34), ('par', 34), ('été', 33), ('cela', 32), ('y', 32), ('sont', 31), ('jauge', 31), ('réponse', 31), ('erreur', 31), (\"n'arrive\", 30), ('se', 30), ('depuis', 29), ('chez', 28), ('car', 28), ('puis', 28), ('alors', 27), ('viens', 25), ('jeu', 25), ('réinitialiser', 25), ('énergie', 25), ('bon', 24), ('électricité', 24), ('vois', 24), ('fais', 24), ('marche', 24), ('nouveau', 24), ('l', 24), ('bonus', 24), (\"n'est\", 23), ('déjà', 23), ('cadeaux', 23), ('veux', 23), ('dit', 23), ('bien', 23), ('jour', 23), ('est-ce', 22), ('site', 22), ('combien', 22), ('sa', 22), ('demande', 22), ('peut', 22), ('possible', 21), ('où', 21), ('connecter', 21), ('2', 21), ('solde', 21), ('mettre', 21), (\"c'est\", 21), ('eu', 20), ('changer', 20), ('pouvez', 20), ('passage', 19), ('40€', 19), ('souhaite', 19), ('vais', 19), ('client', 19), ('quoi', 19), ('cette', 19), ('plusieurs', 19), ('gaz', 18), ('reçois', 18), ('quel', 18), ('même', 18), ('problème', 17), ('vos', 17), ('elle', 17), ('comme', 17), (':', 17), ('perdu', 17), ('d', 17), ('page', 17), ('adhésion', 17), ('date', 17), (',', 16), ('encore', 16), ('sans', 16), ('energie', 15), ('voir', 15), ('moi', 15), ('véhicule', 15), ('après', 15), ('chaque', 15), ('stations', 15), ('lorsque', 15), ('t', 15), ('lors', 15), ('finaliser', 15), (\"n'a\", 15), ('n’arrive', 15), ('passer', 14), ('wash', 14), ('être', 14), ('message', 14), ('essence', 14), ('nouvelle', 14), ('bénéficier', 14), ('email', 14), ('crédité', 14), ('passages', 13), ('10', 13), ('finalisation', 13), ('ajouter', 13), ('dois', 13), ('arrive', 13), ('3', 13), ('euro', 13), ('mise', 13), ('25', 13), ('coordonnées', 13), ('suite', 12), ('avantage', 12), ('pris', 12), ('litres', 12), ('donc', 12), ('avez', 12), ('faut', 12), ('pleins', 12), ('droit', 12), ('réessayer', 12), ('ok', 11), ('inscription', 11), ('récupérer', 11), ('question', 11), ('temps', 11), ('incomplète', 11), ('m', 11), ('offre', 11), ('grand', 11), ('caisse', 11), ('dire', 11), ('jamais', 11), ('service', 11), ('totalenergies', 11), (\"d'un\", 11), ('voiture', 11), ('jubileo', 11), ('n’ai', 11), ('peu', 11), ('vu', 11), ('c', 11), ('jeux', 10), ('noel', 10), ('€', 10), ('aucun', 10), ('normal', 10), ('trouver', 10), ('montant', 10), ('trouve', 10), ('quelle', 10), ('utilisé', 10), ('envoyé', 10), ('ils', 10), ('bus', 10), ('réactiver', 10), ('déménagement', 10), ('tout', 10), ('énergies', 10), ('souscription', 10), ('veuillez', 10), ('pouvez-vous', 10), ('numero', 9), ('crédit', 9), ('jai', 9), (\"qu'il\", 9), ('invalide', 9), ('wallet', 9), ('était', 9), ('noël', 9), ('effectué', 9), ('statut', 9), ('offert', 9), ('50', 9), ('ticket', 9), ('modifier', 9), ('sais', 9), ('bonsoir', 9), ('active', 9), ('faire?', 9), ('espace', 9), ('svp', 9), ('tous', 9), ('fid', 9), ('hier', 9), ('.', 9), (\"n'y\", 9), ('temporairement', 9), ('totalenergie', 9), ('lourd', 9), ('comprends', 9), ('qu', 9), ('tard', 9), ('???', 8), ('accéder', 8), ('??', 8), ('remise', 8), (\"j'aimerais\", 8), ('soit', 8), ('dernier', 8), ('achats', 8), ('jouer', 8), ('lavage', 8), ('obtenir', 8), ('ca', 8), ('données', 8), ('reste', 8), ('changé', 8), ('aller', 8), ('aussi', 8), ('bonsoir,', 8), ('vient', 8), ('confirmer', 8), ('boutique', 8), ('pouvoir', 8), ('moins', 8), ('oublié', 8), ('total.', 8), ('nombre', 8), ('100€', 8), ('téléphone', 8), ('30', 8), ('café', 8), ('confidentiel', 8), ('n’est', 8), ('survenue.', 8), ('puis-je', 7), ('totale', 7), ('20', 7), ('commander', 7), ('120', 7), ('tant', 7), ('historique', 7), ('met', 7), ('très', 7), ('payer', 7), ('facture', 7), ('dessus', 7), ('robot', 7), ('nom', 7), ('s', 7), ('activer', 7), ('parrainer', 7), ('aux', 7), ('jours', 7), ('consulter', 7), ('1', 7), (\"m'a\", 7), ('account', 7), ('n°', 7), ('mois', 7), ('son', 7), ('éligible', 7), ('!', 7), ('deux', 7), ('électrique', 7), ('recharger', 7), ('creation', 7), ('parrainage', 7), ('concernant', 7), ('contact', 7), ('envoyer', 7), ('2021', 7), ('retrouve', 6), (\"d'avoir\", 6), ('sous', 6), ('factures', 6), (\"s'affiche\", 6), ('sert', 6), ('création', 6), ('devais', 6), ('activé', 6), ('5', 6), ('passe,', 6), ('voulais', 6), ('gasoil', 6), ('marque', 6), ('points?', 6), ('bancaire', 6), ('pense', 6), (\"m'en\", 6), ('réinitialisation', 6), ('spam', 6), ('gazole', 6), ('4', 6), ('adhérent', 6), ('avais', 6), ('souscrit', 6), ('assistance', 6), ('entre', 6), ('validation', 6), ('répondre', 6), ('tu', 6), ('c’est', 6), ('chiffres', 6), ('truck', 6), ('contient', 6), ('enregistrer', 6), ('clique', 6), ('achat', 6), ('bug', 6), ('inscrit', 6), ('60', 6), (\"j'avais\", 6), ('services', 6), ('points.', 6), ('25€', 6), ('mis', 6), (\"d'erreur\", 6), ('ni', 6), ('réduction', 6), ('recu', 6), ('souscris', 5), ('domicile', 5), ('souhaiterais', 5), ('cumuler', 5), ('st', 5), ('malgré', 5), ('constate', 5), ('2022.', 5), ('gagner', 5), ('profil', 5), ('complété', 5), ('finalisé', 5), ('cordialement', 5), ('lieu', 5), (\"d'essence\", 5), ('prends', 5), ('reactiver', 5), ('enregistré', 5), ('créer', 5), ('pass', 5), ('cliente', 5), ('personne', 5), ('electricite', 5), ('mets', 5), ('bons', 5), ('cartes', 5), ('nous', 5), ('pack', 5), ('google', 5), ('pompe', 5), ('15', 5), ('donner', 5), ('connaître', 5), ('60€', 5), ('liens', 5), (\"j'\", 5), ('périmé', 5), (\"l'application\", 5), ('peuvent', 5), ('deja', 5), ('connexion', 5), ('partir', 5), ('toutes', 5), ('ete', 5), ('existe', 5), ('carte?', 5), ('fournisseur', 5), ('tableau', 5), ('accès', 5), ('entrer', 5), ('mode', 5), ('poid', 5), ('etait', 5), ('stage', 5), ('sera', 5), ('programme', 5), ('valeur', 5), ('reconnue', 5), ('participer', 5), ('écrire', 5), ('cet', 5), ('merde', 5), ('poids', 5), ('i', 5), ('is', 5), ('recharge', 5), ('commandé', 5), ('abonnement', 5), ('dernière', 5), ('est-il', 5), ('juste', 5), ('not', 5), ('euros.', 5), (\"l'ai\", 5), ('2022', 5), ('indisponible.', 5), ('réinitialisé', 4), ('environ', 4), (\"n'existe\", 4), ('justificatif', 4), ('mini', 4), ('recuperer', 4), ('cheque', 4), ('j’avais', 4), ('demander', 4), ('beug', 4), ('niveau', 4), ('correspond', 4), ('afficher', 4), ('no', 4), ('mi', 4), ('tarjeta', 4), ('charge', 4), ('j’arrive', 4), ('zéro', 4), ('fidelite', 4), (\"l'adresse\", 4), ('bonne', 4), ('somme', 4), ('donne', 4), ('tirage', 4), ('sort', 4), ('nombreux', 4), (\"m'indique\", 4), ('meme', 4), ('valable', 4), ('24', 4), ('pourtant', 4), ('prise', 4), ('part', 4), ('indique', 4), ('là', 4), ('6', 4), ('maintenant', 4), ('100', 4), ('pu', 4), ('s’il', 4), ('voie', 4), ('inactive', 4), ('cours', 4), ('????', 4), (\"l'inscription\", 4), ('change', 4), ('avant', 4), (\"j'arrive\", 4), ('prendre', 4), ('début', 4), ('soucis', 4), ('pouvais', 4), ('associer', 4), ('panne', 4), ('diesel', 4), ('comprend', 4), ('pas.', 4), ('attente', 4), ('satisfait', 4), ('survenue', 4), ('profiter', 4), ('d’une', 4), ('application', 4), ('indisponible', 4), ('passé', 4), ('bord', 4), ('connecté', 4), ('disparu', 4), ('carte.', 4), ('ont', 4), ('moment', 4), ('fin', 4), ('compte?', 4), (\"qu'elle\", 4), ('personnel', 4), ('renseigner', 4), ('mauvaise', 4), ('cumule', 4), ('total,', 4), ('refaire', 4), ('besoin', 4), (\"l'email\", 4), ('e', 4), ('fidelité', 4), ('acheter', 4), ('solution', 4), ('paye', 4), ('servir', 4), ('vraiment', 4), ('my', 4), ('soir', 4), ('12', 4), ('crédités', 4), ('35€', 4), ('validité', 4), ('an', 4), ('trop', 4), ('récupéré', 4), ('dématérialiser', 4), ('septembre', 4), ('l’ai', 4), ('société', 4), ('courrier', 4), ('celle', 4), ('voulu', 4), ('13', 4), ('cagnote', 4), ('cas', 4), ('litre', 4), ('boite', 4), ('bouton', 4), ('connecte', 4), ('naissance', 4), ('dois-je', 4), (\"aujourd'hui\", 4), ('vers', 4), ('reprises', 4), ('parviens', 4), ('(step', 4), ('2)', 4), ('contacter', 4), ('heure', 3), ('cumul', 3), (\"d'accès\", 3), ('carburants', 3), ('gants', 3), ('m’a', 3), ('via', 3), ('pompes', 3), ('15€', 3), ('devenir', 3), ('gazoil', 3), ('longtemps', 3), ('choisir', 3), ('va', 3), ('février', 3), ('apple', 3), ('renvoyer', 3), ('rentrer', 3), ('étant', 3), ('appli', 3), ('êtes', 3), ('permis', 3), (\"d'une\", 3), ('travaille', 3), ('a-t-il', 3), ('attendre', 3), (\"l'avoir\", 3), ('pourriez-vous', 3), ('veut', 3), ('dispose', 3), ('périmé,', 3), ('heures', 3), ('adhésion.', 3), ('and', 3), ('effectuer', 3), ('bout', 3), ('40euros', 3), ('continuer', 3), ('credit', 3), ('duplicata', 3), ('cagnotte?', 3), ('direct', 3), ('exacte', 3), ('portable', 3), ('prend', 3), ('notre', 3), ('plaît', 3), ('serait', 3), ('remplie', 3), ('caractères', 3), ('automatique', 3), ('boîte', 3), ('cumulé', 3), ('ayant', 3), ('devient', 3), (\"d'adresse\", 3), ('j’aimerai', 3), ('souscrire', 3), ('format', 3), ('voudrai', 3), ('offres', 3), (\"qu'une\", 3), ('lui', 3), ('reconnu', 3), ('pk', 3), ('contre', 3), ('doit', 3), ('compte.', 3), ('station-service', 3), ('validé', 3), ('prenez', 3), ('reinitialiser', 3), ('adhesion', 3), ('avantages', 3), ('0', 3), ('energies', 3), ('crée', 3), ('voit', 3), ('não', 3), ('disant', 3), ('arnaque', 3), ('cumulés', 3), ('procéder', 3), ('carte,', 3), ('refusée', 3), ('es', 3), ('correctement', 3), ('as', 3), ('carburant.', 3), ('gagnant', 3), ('total?', 3), ('!!', 3), ('bornes', 3), ('questions', 3), ('\"une', 3), (\"n'\", 3), ('partie', 3), (\"j'étais\", 3), ('avance', 3), ('prime', 3), ('club.', 3), ('créé', 3), ('voudrait', 3), ('veulent', 3), ('avril', 3), ('régulièrement', 3), (\"d'adhésion\", 3), ('hors', 3), ('na', 3), ('8', 3), ('vide', 3), ('creer', 3), ('indiqué', 3), ('téléphonique', 3), ('puisse', 3), ('vérification', 3), ('radié', 3), ('internet', 3), ('putain', 3), ('in', 3), ('cliquer', 3), ('ouvert', 3), ('d’un', 3), ('dès', 3), ('apparemment', 3), ('perte', 3), ('informations', 3), ('acheté', 3), ('système', 3), ('the', 3), ('demandes', 3), ('clients', 3), ('allez', 3), ('formulaire', 3), ('chose', 3), ('semaine', 3), ('mr', 3), ('rattaché', 3), ('scanner', 3), ('ci', 3), ('manque', 3), ('exemple', 3), ('noté', 3), (\"m'est\", 3), ('l’utiliser', 3), ('100e', 3), ('dépenser', 3), ('compléter', 3), ('centimes', 3), ('sujet', 3), ('optionnal', 3), ('dépannage', 3), ('nul', 3), ('tombe', 3), ('aujourd’hui', 3), ('octobre', 3), (\"n'était\", 3), ('n’a', 3), ('garage', 3), (\"l'offre\", 3), ('pin', 3), ('14', 2), ('périmée', 2), ('es-tu?', 2), ('inéligible', 2), ('l’activer', 2), ('electricité', 2), ('quelles', 2), ('prix', 2), ('réutilisables', 2), ('2023', 2), ('réactivation', 2), ('energy', 2), (\"l'electricité\", 2), ('résidence', 2), ('maison', 2), ('secondaire', 2), ('exactement', 2), ('georges', 2), ('pierre', 2), ('platinum', 2), ('gold', 2), ('posée', 2), ('champs', 2), ('vol', 2), ('alor', 2), ('lu', 2), ('venu', 2), ('fonction', 2), ('cadeaux.', 2), ('he', 2), ('como', 2), ('pub', 2), (\"l'écran\", 2), ('blanc', 2), ('convertir', 2), ('semaines', 2), ('3000', 2), ('granules', 2), (\"j'aurais\", 2), ('démarche', 2), ('suivante', 2), (\"d'euros\", 2), ('année', 2), ('carburant,', 2), ('!!!!', 2), ('figure', 2), ('t-elle', 2), (\"j'en\", 2), ('possède', 2), ('bloquée', 2), ('totalenergies\"', 2), ('am', 2), ('edf', 2), ('coupe', 2), ('monde', 2), ('rugby', 2), ('tiens', 2), (\"jusqu'au\", 2), ('plain', 2), ('exelium', 2), ('postale', 2), ('arrêté', 2), ('autorisation', 2), ('disparue', 2), (\"l'électricité\", 2), ('arriver', 2), ('rue', 2), ('b', 2), ('station.', 2), ('telephone', 2), ('électricité.', 2), ('boisson', 2), ('numeros', 2), ('vais-je', 2), ('confirmé', 2), ('bla', 2), ('connais', 2), ('code.', 2), ('temps,', 2), ('minutes', 2), ('totalwash', 2), ('j;ai', 2), ('gratuit', 2), ('saisir', 2), ('spams', 2), ('93', 2), ('dure', 2), ('apercevoir', 2), ('contrats', 2), ('ajuste', 2), ('lien,', 2), ('mn', 2), ('tickets', 2), ('justifier', 2), ('surtout', 2), ('80', 2), ('ainsi', 2), ('versé', 2), ('gauge', 2), ('donnees', 2), ('mail,', 2), (\"qu'un\", 2), ('créditer', 2), ('01', 2), ('ai-je', 2), ('voici', 2), ('mauvais', 2), ('cliqué', 2), ('invalide.', 2), ('tapé', 2), ('lecteur', 2), ('lien.', 2), ('raison', 2), (\"l'année\", 2), (\"d'être\", 2), ('til', 2), ('credite', 2), ('effet,', 2), ('t-il', 2), ('pourrai', 2), ('finir', 2), ('profile', 2), ('completion', 2), ('présentant', 2), ('card', 2), ('o', 2), ('vérifier', 2), (\"l'état\", 2), ('lequel', 2), ('ha', 2), ('ds', 2), ('infos', 2), ('dépliant.', 2), ('mal', 2), ('faite', 2), ('selon', 2), ('dû', 2), ('cordialement.', 2), ('diminuer', 2), ('rattacher', 2), ('ya', 2), ('svp?', 2), ('dis', 2), ('existant', 2), ('yes', 2), ('travail', 2), ('sms', 2), ('retrouver', 2), (\"l'adhésion\", 2), ('remercie', 2), (\"d'accueil\", 2), ('actif', 2), ('souhaiterai', 2), ('site.', 2), ('22', 2), ('pourrais', 2), ('id', 2), ('valide', 2), ('rentre', 2), ('allo?', 2), ('déménagé', 2), ('août', 2), ('compris', 2), ('train', 2), ('probleme', 2), (\"d'achats\", 2), ('samedi', 2), ('compte,', 2), ('bientôt', 2), ('surprise', 2), ('29', 2), ('retour', 2), ('caissier', 2), ('près', 2), ('savez', 2), ('taper', 2), (\"l'essence\", 2), ('oublie', 2), ('toilettes', 2), ('véhicules', 2), ('seule', 2), ('oui', 2), ('appel', 2), ('telephonique', 2), ('32', 2), ('chat', 2), ('..', 2), ('choix', 2), (\"d'électricité,\", 2), ('m’avez', 2), ('traitement', 2), ('dossier', 2), ('envoi', 2), ('cependant', 2), ('comptabilisé', 2), ('ouverture', 2), ('cts', 2), ('adressé', 2), ('changement', 2), ('juin', 2), ('normal?', 2), ('tenho', 2), ('payé', 2), ('devoir', 2), ('pis', 2), ('connaitre', 2), ('convention', 2), ('garde', 2), ('l’ajouter', 2), ('apres', 2), ('délai', 2), ('vraie', 2), ('21', 2), ('28', 2), ('mars', 2), ('+', 2), ('payant', 2), ('ami', 2), ('identique', 2), ('expiré', 2), ('point,', 2), ('pourquoi?', 2), ('caissière', 2), ('permettait', 2), ('expert', 2), ('ans', 2), ('d’essence', 2), ('borne', 2), ('moyen', 2), ('40euro', 2), ('200', 2), ('utile', 2), ('présente', 2), ('n’avais', 2), ('…', 2), ('mails', 2), ('narrive', 2), ('club,', 2), ('recus', 2), ('restant', 2), ('uniquement', 2), ('guichet', 2), ('boutique.', 2), ('recois', 2), ('narive', 2), ('fonctionner', 2), ('08', 2), ('l’application', 2), ('mai', 2), ('t’il', 2), ('vendredi', 2), ('carta', 2), ('argent', 2), ('parvenir', 2), ('cc', 2), ('vaut', 2), ('fait-il', 2), ('appeller', 2), ('dla', 2), ('kierowcy', 2), ('ta', 2), ('aide', 2), ('messagerie', 2), ('chauffeur', 2), ('moi,', 2), ('deviez', 2), ('quelque', 2), ('bloqué', 2), ('enregistrée', 2), ('validée', 2), ('3x', 2), ('gérant', 2), ('tape', 2), ('réponse.', 2), ('u', 2), ('situation', 2), ('prises', 2), (\"t'il\", 2), ('utilise', 2), ('inactivité', 2), ('faut-il', 2), (\"m'expliquer\", 2), ('coup', 2), ('poubelle', 2), ('rempli', 2), ('j´ai', 2), ('serviette', 2), ('plage', 2), ('désactivé', 2), ('électriques', 2), ('23', 2), ('comprendre', 2), ('contract', 2), ('bureau', 2), ('reçue', 2), ('quelques', 2), ('années,', 2), ('avait', 2), ('journée', 2), ('foi', 2), ('devrais', 2), ('réalisé', 2), (\"l'air\", 2), ('d’utiliser', 2), ('sauf', 2), ('relais', 2), ('aimerais', 2), ('insérant', 2), ('mia', 2), ('demandé', 2), ('from', 2), ('total-club', 2), ('name', 2), ('récupération', 2), ('seront', 2), (\"l'assistance\", 2), ('40e', 2), ('atteint', 2), ('afin', 2), ('normalement', 2), ('speak', 2), ('to', 2), ('touche', 2), ('prélevé', 2), ('atteindre', 2), ('energie,', 2), ('jour.', 2), ('appeler', 2), ('appelé', 2), ('regarder', 2), (\"d'acheter\", 2), ('personnelles', 2), ('q', 2), ('chauffage', 2), ('gains', 2), ('play', 2), ('m’aider', 2), ('années', 2), ('réception', 2), ('mercredi', 2), ('or', 2), ('cottier', 2), ('leurs', 2), ('charger', 2), (\"jusqu'à\", 2), ('énergie.', 2), (\"l'associer\", 2), ('pourriez', 2), ('supérieurs', 2), ('dématérialisé', 2), ('répond', 2), ('aire', 2), (\"d'argent\", 2), ('pb', 2), ('fleet', 2), ('camion', 2), ('e-mail', 2), ('confirmation', 2), ('novembre', 2), ('minimum', 2), ('hier,', 2), ('plainte', 2), ('tourne', 2), ('jeu24', 1), ('mans', 1), (\"m'hade\", 1), ('restants', 1), ('silver', 1), ('25€?', 1), ('semblerait', 1), ('reactivation', 1), ('case', 1), ('\"société\"', 1), ('carrer', 1), ('carye', 1), ('jubilo?????', 1), ('tjs', 1), ('info', 1), ('fonctionnement', 1), ('fidélité.jen', 1), ('évoluer.cordialement', 1), ('philippe', 1), ('champeval', 1), ('tailles', 1), (\"n'aime\", 1), ('nouvelles', 1), ('conditions', 1), ('encaisser', 1), ('s’utilise', 1), (\"'e\", 1), ('principal', 1), ('bcp', 1), ('évolution', 1), ('d’euro', 1), ('altto.', 1), ('web', 1), ('fonctionnera.', 1), ('hs', 1), ('week', 1), ('ends?', 1), ('amey', 1), ('4rue', 1), ('14400', 1), ('sommervieu', 1), ('pass:29051965jp', 1), ('1900', 1), ('carburants.', 1), ('participation', 1), ('automatiques', 1), ('introduisant', 1), ('activation', 1), ('eh', 1), ('recibido', 1), ('posé', 1), ('matin,', 1), ('complet', 1), ('{{vm.i18n.accountcreation.portlet.migration.welcome}}', 1), ('{{vm.i18n.accountcreation.portlet.migration.title}}', 1), ('papiers', 1), ('recuperation', 1), ('naît', 1), ('walker', 1), ('40.euros', 1), (\"t'ai\", 1), (\"l'époque\", 1), ('pourrait', 1), ('petits', 1), ('sympas', 1), ('cumulé.', 1), ('j’appuie', 1), ('pad', 1), ('fiche', 1), ('modifié,', 1), ('american', 1), ('express', 1), ('reliée', 1), ('annulée', 1), ('serais', 1), ('repart', 1), ('passa', 1), ('connections', 1), ('site?', 1), ('perdido', 1), ('puedo', 1), ('pedir', 1), ('otra?', 1), (\"d'essence?\", 1), ('finalise', 1), ('mensonger', 1), ('régulier', 1), ('payante', 1), ('correspondrait', 1), ('particulier', 1), ('vide...', 1), ('95%', 1), ('chargé', 1), ('sérieux', 1), ('chauffer', 1), ('contac', 1), ('aimé', 1), (\"l'information\", 1), ('serons', 1), ('dépensée', 1), ('(plus', 1), ('quinze', 1), ('total).', 1), (\"n'ai-je\", 1), ('humain', 1), ('communiquer', 1), ('belle', 1), ('entreprise', 1), ('pleine', 1), ('preuve', 1), ('fait,', 1), ('réinitialise', 1), ('montmirail', 1), ('0000344805', 1), ('paulette', 1), ('espieu', 1), ('e-mail:', 1), ('paule.espieu', 1), ('mdp', 1), ('montants', 1), ('menbres', 1), ('pro', 1), ('&9#9#9#9#-##-#-##)#-#0#0#98#-#92920202', 1), ('pouquoi', 1), ('jubileo.', 1), (\"l'utiliser\", 1), ('heures.', 1), ('écris', 1), ('so', 1), ('what', 1), ('24/02', 1), ('85', 1), ('eme', 1), ('insertion', 1), ('deans', 1), ('114', 1), ('prépayer', 1), ('\"finalisation', 1), ('gdf', 1), ('mécontentement', 1), ('12/02/2022', 1), ('troyes', 1), ('plessis', 1), ('partenariat', 1), ('rentalcar', 1), ('dépanneur', 1), ('déposé', 1), (\"l'assurer\", 1), ('depanage', 1), ('30.12.2022.', 1), ('communiquer.', 1), ('dernières', 1), ('8o', 1), ('€zéro.', 1), ('souscrivant', 1), ('gerzat', 1), ('63360?', 1), ('editer', 1), ('demandez', 1), ('\"je', 1), ('carte\"', 1), ('\"j\\'ai', 1), ('récupérée', 1), ('station-service\"?', 1), (\"s'agit-il\", 1), ('essence?', 1), ('reactive', 1), ('10867', 1), ('loin', 1), ('rajouter', 1), ('l’on', 1), ('donné', 1), ('sèche', 1), ('linge', 1), (\"l'étape\", 1), ('conforme...', 1), ('souhaiterait', 1), ('logement', 1), ('’', 1), ('conseille', 1), ('médit', 1), ('j’aurai', 1), ('gratuitement', 1), ('gratuite…est', 1), ('96', 1), ('papeterie', 1), ('91100', 1), ('corbeil', 1), ('essonnes', 1), ('adherent', 1), ('maintenance.', 1), ('faire.', 1), ('coopérative', 1), ('emrys', 1), ('ton', 1), (\"m'apporte\", 1), ('\"club', 1), ('qd', 1), ('simple', 1), ('site...', 1), ('installé', 1), ('pourra', 1), ('beneicier', 1), ('adhésion,', 1), (\"d'avis.\", 1), ('connecté,', 1), ('jarrive', 1), ('\"incompréhensibles\"', 1), ('^:', 1), ('l’assistance', 1), ('présent', 1), ('cest', 1), ('koi', 1), ('libelle', 1), ('total.fr', 1), ('souscrits', 1), ('supplémentaires', 1), (\"j'a\", 1), ('portable.', 1), ('intégrer', 1), ('information', 1), ('pas,', 1), ('mouline', 1), ('30mik', 1), ('aimerai', 1), ('patron', 1), ('ajoutez', 1), ('-il', 1), ('conduis', 1), ('opération', 1), ('absent', 1), ('imparti.', 1), ('pue', 1), ('valident', 1), ('delai', 1), ('obtention', 1), ('tptal', 1), ('anomalie', 1), ('statue', 1), (\"n'avance\", 1), ('vien', 1), ('profite', 1), ('incorrect', 1), ('fai', 1), ('juillet', 1), ('tone', 1), ('pts', 1), ('droits', 1), ('?*', 1), ('cartec', 1), ('passait', 1), ('septembre,', 1), ('reconnu.pouvez', 1), ('m’en', 1), ('conducteur', 1), ('rso', 1), ('sortie', 1), ('sait', 1), ('fod', 1), ('refusé', 1), ('beuguer', 1), ('assistant', 1), ('estc', 1), ('ao', 1), ('cham', 1), ('rharbawi', 1), ('chmni49?', 1), ('renvoie', 1), ('long', 1), ('remorquage', 1), ('jeu?', 1), ('y’a', 1), ('boulot', 1), ('échanger', 1), ('trouves', 1), ('dommage', 1), (\"l'on\", 1), ('montrer', 1), ('station-service.', 1), ('déçue', 1), ('65', 1), ('relevé', 1), ('rn4', 1), ('wolfisheim', 1), ('dommage.', 1), ('annexe', 1), ('minscrire', 1), ('angel.lobato@renault-trucks.net,', 1), (\"l'attente\", 1), ('informatique', 1), ('manquantes', 1), ('réflexion', 1), ('censé', 1), ('pratique.', 1), ('tracing', 1), ('quelqu’un', 1), ('contacter?', 1), ('première', 1), ('excelium', 1), ('75e', 1), ('bug,', 1), ('\"raison', 1), ('sociale', 1), ('/', 1), ('complément', 1), ('invalides,', 1), ('directement', 1), ('paser', 1), ('retombe', 1), ('sempiternellement', 1), ('mêmes', 1), ('demandes...', 1), ('absurbe', 1), ('pleines', 1), ('souhaiter', 1), ('coordonnéees', 1), ('emmanuelle', 1), ('thimonier', 1), ('place', 1), ('aphrodite', 1), ('69560', 1), ('romain-en-gal', 1), ('pareil', 1), ('palier', 1), ('sabeksamir1963@gmail.com', 1), ('concrétiser', 1), ('suit', 1), ('conso', 1), ('live', 1), (\"m'affiche\", 1), ('assurer', 1), ('correctement.', 1), ('copiez', 1), ('courrier,', 1), ('assurez-vous', 1), ('copié', 1), ('lignes', 1), ('o,', 1), ('incorrectes', 1), ('abandonne.', 1), ('dernière,', 1), ('année,', 1), ('magnifique.', 1), ('avoir,', 1), ('rien.', 1), ('fidèle...', 1), ('combinaison', 1), ('rinitiliser', 1), ('bordel', 1), ('test', 1), ('déjà.', 1), ('energieconnect.', 1), ('rapport', 1), ('dela', 1), ('datre', 1), (\"d'\", 1), ('offerts', 1), ('grave', 1), ('hasard', 1), ('plaisir', 1), ('pompiste.....', 1), ('résumé', 1), ('possession', 1), ('plaisir.', 1), ('pay', 1), ('estou', 1), ('conseguir', 1), ('fazer', 1), ('meu', 1), ('cartao', 1), ('entretien', 1), ('iligible', 1), ('reçus', 1), ('001457549', 1), ('40beuros', 1), ('arrêt', 1), ('site,', 1), ('blanche', 1), ('marc', 1), ('500e', 1), (\"d'u\", 1), ('fonctionnée', 1), ('su', 1), ('automate', 1), (\"l'un\", 1), ('vue', 1), ('collègues', 1), ('déconnecté', 1), ('hola!', 1), ('solicitado', 1), ('pero', 1), ('llegado', 1), ('aún', 1), ('relance', 1), ('toujour', 1), ('ol', 1), ('ville', 1), ('serviettes', 1), ('bsr', 1), ('indiquées', 1), ('barre', 1), ('\"message\"', 1), (\"j'écris\", 1), ('trompe', 1), (\"l'endroit\", 1), (\"l'écriture\", 1), ('rectifier', 1), ('effacer', 1), ('revenir', 1), ('ms', 1), ('eboutique', 1), ('dématérialisation', 1), (\"c'était\", 1), ('voulez', 1), ('résultat', 1), ('dumans', 1), ('marquent', 1), ('redire,', 1), ('ses', 1), ('confirmer.', 1), ('faux', 1), ('lo', 1), ('riporrò', 1), ('fine', 1), ('di', 1), ('sì', 1), ('domus', 1), ('mékaz', 1), ('surveiller', 1), ('consommation', 1), ('quotidien', 1), ('plusieur', 1), (\"d'affilé\", 1), (\"qu'on\", 1), ('command', 1), ('renvoyé', 1), ('écrie', 1), ('ruyant', 1), ('suel', 1), ('arrivé', 1), ('possibilité', 1), ('secret', 1), ('de12', 1), ('poins', 1), ('erroné', 1), ('que.le', 1), ('erroné.', 1), ('plerneuf', 1), ('goelo', 1), ('22170', 1), ('perso', 1), ('telechargé', 1), ('descendue', 1), ('achat.', 1), ('sylvain', 1), ('fréry', 1), ('h', 1), ('فرسة', 1), ('أخرى', 1), ('لتسليم', 1), ('البطاقة', 1), ('وشكرا', 1), ('rfid', 1), ('acces', 1), ('clientèle', 1), (\"j'aimerai\", 1), ('rpis', 1), ('excès', 1), ('vitesse', 1), ('24/02/2022,', 1), ('capital', 1), ('réduit', 1), ('4,', 1), (\"m'oblige\", 1), ('suivre', 1), ('sensibilisation', 1), ('sécurité', 1), ('routière,', 1), ('éviter', 1), ('déconvenue', 1), ('court', 1), ('terme.', 1), ('financièrement?', 1), ('acheta', 1), ('marché', 1), ('conclu', 1), ('objectif', 1), (\"aujourd'hui,\", 1), ('contrat!', 1), ('acceptable,', 1), ('attirer', 1), ('promesses', 1), ('tenir.', 1), ('convenu', 1), ('programme.', 1), ('emmanuel', 1), ('d’identification', 1), ('envoie', 1), (\"d'identiifcation\", 1), ('manquante', 1), ('wallace8aya?', 1), ('dizaines', 1), ('paiement', 1), ('disponibilité', 1), ('réel', 1), ('revu', 1), ('euros?', 1), ('premiers', 1), ('er', 1), ('reprends', 1), ('précédent', 1), ('porteur', 1), ('707498000025558817', 1), ('francois', 1), ('seine,', 1), ('(opération', 1), ('années.', 1), ('francois.desaintseine@outlook.com,', 1), ('soir;', 1), ('1h30', 1), ('charmante', 1), ('jeune', 1), ('femme', 1), ('0970808664', 1), ('expliqué', 1), ('roulais', 1), ('gpl,', 1), ('réservoir', 1), ('litres;', 1), ('remplissage', 1), ('permettant', 1), (\"d'avdes\", 1), ('1.', 1), ('create', 1), ('-', 1), ('double', 1), ('trouvée', 1), ('sc_carteclub__c', 1), ('duplique', 1), (\"l'enregistrement\", 1), ('001b000003lpv0y', 1), ('attribués', 1), ('tout???', 1), ('indiquée', 1), ('donc?', 1), ('ma.carte', 1), ('prénom', 1), ('correspondent?????', 1), ('survenue\"', 1), ('apparaît.', 1), ('dix', 1), ('march', 1), ('lk,', 1), ('bénéficiais', 1), ('puije', 1), ('récapitulatif', 1), ('montent', 1), ('disiez', 1), ('d’etre', 1), ('acheminée', 1), ('actuellement', 1), ('{vm.i18n.accountcreation.portlet.migration.password.notmatch}', 1), ('peut-on', 1), ('decathlon?', 1), ('réinstaller', 1), ('jour,', 1), ('toujoiurs', 1), ('jaimerai', 1), ('actualise', 1), ('robo', 1), ('albertandre1944@gmail', 1), ('rapide', 1), ('préautorisation', 1), ('langon.', 1), ('faites', 1), ('dematerialise', 1), ('okay', 1), ('d’habitude', 1), ('repondez', 1), ('!!!!!', 1), ('20€', 1), ('composer', 1), ('reconnaît', 1), ('cumulés.', 1), ('février,', 1), ('116', 1), ('content', 1), (\"j'allais\", 1), ('€;', 1), (\"qu'à\", 1), (\"m'aider.\", 1), ('pouvait', 1), ('entrain', 1), ('finallisais', 1), ('soucis,', 1), ('envoler', 1), ('trace.', 1), ('déclarer', 1), ('plein?', 1), ('refuser', 1), (\"l'automate\", 1), ('affiches', 1), ('publicitaires', 1), ('disposées', 1), ('promotionnelles?', 1), ('90€', 1), (\"qu'avec\", 1), ('10€', 1), ('noter', 1), ('cartequand', 1), (\"d'autre\", 1), ('étais', 1), ('voud', 1), ('jr', 1), ('tarifs', 1), ('car.', 1), ('cdiscount', 1), ('mod', 1), ('modifie', 1), ('voyageur', 1), ('vtaiment', 1), ('qu’elles', 1), ('extérieures', 1), ('condamnées', 1), ('nuit.il', 1), ('manœuvrer', 1), ('garés', 1), ('côtés', 1), ('pompes.pour', 1), ('située', 1), ('ambrussum', 1), ('lancon', 1), ('provence,', 1), ('dévier', 1), ('trajet,', 1), ('géographiquement', 1), ('positionnée', 1), ('fort', 1), ('camions', 1), ('axe', 1), ('italie', 1), ('espagne,les', 1), ('équipements', 1), ('el', 1), ('mediocre', 1), ('bouaoune', 1), ('taoufik', 1), ('de01', 1), ('donnera', 1), ('monsieur', 1), ('exemple:', 1), ('peine', 1), ('sp98', 1), ('hyères', 1), ('26/07', 1), ('saint-jean', 1), ('védas', 1), ('enregistré.', 1), ('mieux', 1), ('platinium...', 1), ('caracteres', 1), ('croix', 1), ('rouge', 1), ('affichée', 1), ('....', 1), (\"m'inscris\", 1), ('cvotre', 1), ('altto', 1), ('av', 1), ('mer', 1), (\"s'en\", 1), ('comm', 1), ('why', 1), ('blocked?', 1), ('recréé', 1), ('éléments', 1), ('complétés', 1), ('no:', 1), ('01198287', 1), ('incrire', 1), ('gagnant?', 1), ('fidélité.', 1), (\"est-ce-qu'il\", 1), ('façon', 1), ('signaler', 1), ('dysfonctionnement', 1), ('réglée', 1), ('derniers', 1), ('ex', 1), ('55', 1), ('compteur', 1), ('platonisme?', 1), (\"d'où\", 1), ('expédiée', 1), ('donc,', 1), ('repondre', 1), ('nbonjour,', 1), ('decrit', 1), ('0000231928', 1), ('apparue', 1), ('rapporté', 1), (\"l'avantage\", 1), ('savoie', 1), ('horaires', 1), ('contre,', 1), ('olá', 1), ('boa', 1), ('tarde', 1), ('contas', 1), ('em', 1), ('atrasou', 1), ('conta', 1), ('frança', 1), ('ainda', 1), ('sei', 1), ('pagar', 1), ('será', 1), ('ajudar', 1), ('creditée', 1), ('recue', 1), ('bancaire,mais', 1), ('acceptée', 1), ('idiot', 1), ('retrouves', 1), ('points,sinon', 1), ('esso.cdt', 1), (\"n'aur\", 1), ('vieux', 1), ('reinitialisé', 1), ('association', 1), ('connection', 1), (\"s'ouvre\", 1), ('radiation', 1), ('boune', 1), ('perdus', 1), ('adhésions', 1), ('redemandant', 1), (\"d'activation.\", 1), ('corriger', 1), ('pb?', 1), ('hoe', 1), ('kan', 1), ('ik', 1), ('het', 1), ('nederlands', 1), ('zetten', 1), ('recupere', 1), ('vl', 1), ('retomber', 1), ('1point', 1), (\"d'actualisation\", 1), ('l’obtenir', 1), ('répondent', 1), ('rappelle', 1), ('passés', 1), ('datée', 1), ('2022.donc', 1), ('ouvrés', 1), ('pa', 1), ('lier', 1), ('puans', 1), ('سلام', 1), ('عليكم', 1), ('فين', 1), ('نلقا', 1), ('لكرط', 1), ('ديالي', 1), ('gmail', 1), ('sénégalais', 1), ('présenter', 1), ('conversation', 1), (\"n'apparaisse\", 1), (\"l'agence\", 1), ('caen', 1), ('depuis2ans', 1), ('50l', 1), ('2€', 1), ('environs', 1), ('=', 1), ('depense', 1), ('5€', 1), (\"d'achat.\", 1), ('effectivement', 1), ('générosié', 1), ('simplement.........', 1), ('200euro', 1), ('retrouve-t-on', 1), ('électricité?', 1), ('an?', 1), (\"j'utilise\", 1), ('consommé', 1), ('seul', 1), (',la', 1), ('modiffier', 1), ('bizarre', 1), ('sortes', 1), ('véhicules,', 1), ('0101246736', 1), ('gr,', 1), ('(à', 1), ('décembre...)', 1), ('reversee', 1), ('usine', 1), ('catcha', 1), ('pause', 1), ('gourmande', 1), ('l’es', 1), ('péage', 1), ('lecodedacces', 1), ('papa', 1), (\"t'eduquer\", 1), ('0001057749', 1), ('rentrée', 1), ('complète', 1), ('platinum?', 1), ('0000138294', 1), ('eut', 1), ('lieu?', 1), ('remboursement', 1), ('identité', 1), ('tiket', 1), ('petit', 1), ('chinois', 1), ('40eur', 1), ('peage', 1), (\"j'aurai\", 1), ('gratuit?', 1), ('2022_xD83E__xDD14_', 1), ('obligé', 1), ('absolument', 1), (\"puisqu'en\", 1), ('adhérant', 1), ('transférer', 1), ('facebook', 1), ('autres.', 1), ('refuse', 1), ('pourrez-vous', 1), ('bqrjwfnst’dj', 1), ('.,', 1), ('mes.40€', 1), (\"l'identification\", 1), ('bonjout', 1), ('acces,', 1), ('abonné', 1), ('recoi', 1), ('manager', 1), ('particulière,', 1), ('fidélisation', 1), ('attractif', 1), ('beneficier', 1), ('d’electricité', 1), ('voit-on', 1), ('léger.', 1), ('ewallet', 1), ('coordonnees', 1), ('bienvenue', 1), ('calendrier', 1), (\"del'avant\", 1), ('attestation', 1), ('??????', 1), ('soldse', 1), ('bouge', 1), ('arrivée', 1), ('mesure', 1), ('posséder', 1), ('2ieme', 1), ('minis', 1), ('commence', 1), ('d’adresse', 1), (\"d'acceuil\", 1), ('rafrechie', 1), ('finalisation?', 1), ('voyait', 1), ('statti', 1), ('ree', 1), ('cu', 1), ('adh2sion', 1), ('fid2lite', 1), ('indiquant', 1), ('petu', 1), ('progres', 1), ('ludovic.', 1), ('barbier', 1), ('@gmail.com', 1), ('ios', 1), ('42€', 1), (\"d'hardèrent\", 1), ('interroger', 1), ('pas.je', 1), ('sui', 1), ('rendu', 1), ('passe!!!!!!merci', 1), ('touristique', 1), ('rétroactifs', 1), ('déménagement,', 1), ('0000333829', 1), ('2013', 1), ('0001071272', 1), ('confidentiel,', 1), ('ps/170463', 1), ('il?', 1), ('pelet', 1), ('found.', 1), ('requested', 1), ('url', 1), ('/web/club/waiting-creation', 1), ('was', 1), ('found', 1), ('this', 1), ('server.', 1), ('accetaction', 1), (\"l'est\", 1), ('reçut', 1), ('essense', 1), ('d’argent', 1), ('electricité,', 1), ('40€,', 1), ('professsionnel', 1), ('répondu', 1), ('précise', 1), ('réclamation', 1), ('totaenergie', 1), ('accord', 1), ('(30-09)', 1), ('remonté', 1), ('j’étais', 1), ('reviens', 1), ('accueil', 1), ('35', 1), ('adhere', 1), ('maroc', 1), ('l’électricité', 1), ('apparaître', 1), ('72h', 1), ('invalides', 1), ('altto,', 1), ('reçu,', 1), ('lettres,', 1), ('renseigné', 1), ('creditee', 1), ('plein,', 1), ('fonctionné...', 1), ('17', 1), ('anne', 1), ('systeme', 1), ('ses.', 1), ('dépasser', 1), ('manip', 1), ('conseillée', 1), ('pas!', 1), (\"m'envoyez\", 1), ('fermée', 1), ('nourriture', 1), (\"n'ouvre\", 1), ('1h', 1), ('matin', 1), ('combustible', 1), ('ouest', 1), ('pellets,', 1), ('raccorder', 1), ('hier,et', 1), ('rentré', 1), ('czy', 1), ('karta', 1), ('autokarów', 1), ('ciężarówek', 1), ('jest', 1), ('sama', 1), ('bo', 1), ('jestem', 1), ('kierowcą', 1), ('autokaru', 1), ('dostałem', 1), ('ciężarówki', 1), ('neso', 1), ('compté', 1), ('plusq', 1), ('recommandé', 1), ('papiers.', 1), ('irrespectueux', 1), ('dise', 1), ('vont', 1), ('énergie,', 1), ('40€.', 1), (\"n'évolue\", 1), ('perdre', 1), ('platinium', 1), ('prochain', 1), (\"d'utiliser\", 1), ('compagne', 1), ('avons', 1), ('immatriculation', 1), ('activee?', 1), ('disposais', 1), ('promotionnelle', 1), ('d’essenc', 1), ('3eme', 1), ('fois,', 1), ('tenir', 1), ('informé', 1), ('lié', 1), ('obligatoirement', 1), ('vallet', 1), ('vouss', 1), ('decagnotage?', 1), ('taoufik.zizi@gmail.com', 1), (\"l'inscription;\", 1), ('prochainement', 1), ('545813337', 1), ('valaable', 1), ('s’inscrire', 1), ('puce', 1), ('piur', 1), ('essences', 1), ('autoroutes.', 1), ('créditent', 1), ('25l', 1), ('1x', 1), ('75l', 1), ('pratique', 1), ('carburent', 1), ('chèque', 1), ('access', 1), ('rochefort', 1), ('nenon', 1), ('(nf059913)', 1), ('prospecter', 1), ('(iphone)', 1), ('tablette', 1), ('ekip', 1), ('cadenas', 1), ('haut', 1), ('droite..', 1), ('créditée,', 1), ('utilisée', 1), (\"n'arr\", 1), ('périmé.', 1), ('finaliste', 1), ('tapez', 1), ('finalité', 1), ('longue,', 1), ('décembre', 1), ('signifie', 1), ('26/02/2022', 1), ('courage', 1), ('_xD83D__xDE0A_', 1), ('elec', 1), ('supplémentaire', 1), (\"d'accord\", 1), ('80.12€', 1), ('nes', 1), ('paq', 1), ('actuelle,', 1), (\"d'assaut,\", 1), ('prolongé', 1), ('appelez', 1), ('six', 1), ('del', 1), ('offerte', 1), ('tenu', 1), ('transaction', 1), ('étonné', 1), ('peu...ma', 1), ('collègue', 1), ('souvent', 1), ('1000', 1), ('pb,', 1), ('l’onglet', 1), ('non,', 1), ('indesirables', 1), ('centre', 1), (\"d'appel\", 1), ('précision', 1), ('oublier', 1), ('retiré', 1), ('payez', 1), ('avis', 1), ('contravention', 1), ('fermé', 1), ('rouvrir', 1), ('avdit', 1), ('vouliez', 1), ('freddy', 1), ('st.', 1), ('données,', 1), ('fasse', 1), ('remarqué', 1), ('n°01307347', 1), ('01307343?', 1), ('chèques', 1), ('lorsqu’on', 1), ('l’essence', 1), ('payement', 1), ('commandez', 1), ('9', 1), ('remis', 1), (\"d'execilium\", 1), ('diesel,', 1), ('inchangé', 1), ('5ème', 1), ('changent', 1), ('pedro', 1), ('carvalho', 1), ('atrouver', 1), ('flash', 1), (',,,', 1), ('ponts', 1), ('comptabilisés', 1), ('mo', 1), ('inscrire.......', 1), ('reconnaissance', 1), ('décompte', 1), ('haulchin.', 1), ('coupé', 1), ('personnes', 1), ('occupe', 1), ('pompe.n', 1), ('répondre.', 1), ('mail.', 1), ('sers', 1), ('lis', 1), ('cel', 1), ('consiste?', 1), ('acceder', 1), ('videe', 1), (\"m'indiquez\", 1), (\"s'inscrire\", 1), ('généralement', 1), ('papier', 1), ('nouvele', 1), ('adherente', 1), ('95', 1), ('%', 1), (',,', 1), ('machines', 1), ('toulon', 1), ('bonsoir.', 1), ('21h', 1), ('n´y', 1), ('suggestion', 1), ('quatre', 1), ('35000', 1), ('km', 1), ('ans..', 1), ('!?', 1), ('mètre', 1), ('es-tu?qui', 1), ('apparaitre', 1), ('loisir', 1), ('v', 1), ('ll', 1), ('carterte', 1), ('rendre', 1), ('résoudre', 1), ('hon', 1), ('qu’on', 1), ('24/06', 1), ('rechargé', 1), ('non.', 1), (\"l'instant.\", 1), ('plu', 1), ('dimanche', 1), (\"s'est\", 1), ('tromper', 1), (\"l'activation\", 1), ('pui', 1), ('0101197073,', 1), ('qu’un', 1), ('écrire.', 1), ('retrouvés', 1), ('villers', 1), ('bocage', 1), ('configuration', 1), ('retirer', 1), ('dite', 1), ('signez', 1), ('promis', 1), ('j’en', 1), ('belgique', 1), ('catre', 1), ('proposer', 1), ('faute', 1), ('partenariats', 1), (\"22/12/21.j'ai\", 1), ('activée.', 1), ('leblanc', 1), ('nelly', 1), ('servais', 1), ('plus.', 1), ('m’ont', 1), ('supprimer', 1), ('recherche', 1), ('realisés', 1), ('0€', 1), (\"j'atterrie\", 1), ('\"désolé...', 1), ('microsoft', 1), ('defender', 1), ('office', 1), ('365', 1), ('rencontré', 1), ('erreur.\"', 1), (\"qu'en\", 1), ('cas,', 1), ('studio', 1), ('fille', 1), ('commande', 1), ('est’elle', 1), ('mincrire', 1), ('cartel', 1), ('postal', 1), ('bonnes', 1), ('démarcher', 1), ('presenté', 1), ('panne?', 1), ('suivie', 1), ('consd', 1), ('offrir', 1), ('10%', 1), ('contrôle', 1), ('technique', 1), ('01/01/21', 1), ('31/10/21', 1), ('présentation', 1), ('coupon', 1), ('plans', 1), ('pendant', 1), ('lettres', 1), ('second', 1), ('plateforme', 1), ('bugger', 1), ('(depuis', 1), ('qq', 1), ('semaines)', 1), ('tard.', 1), ('mijn', 1), ('kaart', 1), ('werkt', 1), ('niet', 1), ('15jours', 1), ('....rien', 1), ('affiche', 1), ('logo', 1), ('bulles', 1), ('réactive', 1), ('te', 1), ('également', 1), ('indésirables', 1), ('aidez-moi', 1), ('comote', 1), ('commercial', 1), ('réclamer', 1), (\"d'adhesion\", 1), ('ur', 1), ('n’arriver', 1), ('d’assistance', 1), ('accepté', 1), ('posee', 1), ('miscibilité', 1), ('lubrifiant', 1), ('onjour,', 1), ('invalide...', 1), ('décembre?', 1), ('iradier', 1), ('aventage', 1), ('meilleur', 1), ('stoirique', 1), ('40.62litres', 1), ('79.37', 1), ('valdegour', 1), ('nimes', 1), ('terminal', 1), ('05965296', 1), ('stan', 1), ('batch', 1), ('085428/283', 1), ('vouloir', 1), ('rectifier.v', 1), ('concenrnat', 1), ('13/07/2002', 1), ('8,11l', 1), ('sp95e10.', 1), ('tjrs', 1), (\"l'onglet\", 1), (\"l'investir\", 1), (\"l'intérieur\", 1), ('ok,', 1), ('pourqoi', 1), ('membre', 1), ('de.club', 1), ('antree', 1), ('sour', 1), ('oconte', 1), (\"m'aider?\", 1), ('fautes', 1), ('spams,', 1), ('débite', 1), ('pars', 1), ('geste', 1), ('longtemps.', 1), ('ho', 1), ('mandato', 1), ('iscrizione', 1), ('per', 1), ('avere', 1), ('è', 1), ('ancora', 1), ('arrivata', 1), ('club,jeboe', 1), ('prélèvements', 1), ('actualisé', 1), ('vélo', 1), ('petite', 1), ('question.', 1), ('(je', 1), ('fidélité).', 1), ('semble', 1), ('fidélité,', 1), ('motant', 1), ('fidèle.', 1), ('mvous', 1), ('l’argent', 1), ('mme.', 1), ('m.', 1), ('got', 1), ('temporary', 1), ('registered', 1), ('thru', 1), ('you', 1), ('sent', 1), ('new', 1), ('crad', 1), ('it,', 1), ('chafica', 1), ('abdalla', 1), ('albachrawi', 1), ('but', 1), ('number', 1), ('-0001730492-', 1), ('statut,', 1), ('repart-on', 1), ('l’assistante', 1), ('o.agantour@gmail.com', 1), ('regarde', 1), ('j’allais', 1), ('j’aurais', 1), ('souhaité', 1), ('beaucoup', 1), ('lebelle', 1), ('2x', 1), ('autoroute', 1), ('partenaire', 1), ('center', 1), ('park?', 1), ('mobile', 1), ('voleurs', 1), ('gagne', 1), ('conter', 1), ('epoint', 1), ('reçu.', 1), ('fait?', 1), ('merci!', 1), (\"m'indiquer\", 1), ('compiègne', 1), ('approvisionnées', 1), ('hash', 1), ('acabo', 1), ('hacerme', 1), ('cuanto', 1), ('tiempo', 1), ('tardan', 1), ('mandármela', 1), ('nouveaux', 1), ('depasse', 1), ('cadeau,', 1), ('elligible', 1), ('chercher', 1), ('collector', 1), ('posséde', 1), ('lheure', 1), ('limitée', 1), ('location', 1), ('portable.cdlt', 1), ('decrock', 1), ('pascal', 1), ('main', 1), ('n°0100775519,qui', 1), (\"m'inscrire...\", 1), ('riesco', 1), ('convalidare', 1), ('nais', 1), ('l’offre', 1), ('source', 1), ('option', 1), ('access.', 1), ('cru', 1), ('rajoutait', 1), (\"l'etat.\", 1), ('access?', 1), ('rybinski', 1), ('jean-michel', 1), ('maximum', 1), ('0,', 1), ('agent', 1), ('charactere', 1), ('comporte', 1), ('18', 1), ('inscrites', 1), ('..votre', 1), ('fausse', 1), (\"m'étonnant\", 1), ('associée', 1), ('révision', 1), ('dematérialisée', 1), ('atendant', 1), ('mouligne', 1), ('aujourd', 1), ('hui', 1), ('can', 1), ('someone', 1), ('qu’il', 1), ('verser', 1), ('billets', 1), ('trucks', 1), ('carburant(carte', 1), ('jubiléo)', 1), ('200l', 1), (\"d'actualité\", 1), ('voitures', 1), ('35€wash', 1), (\"d'accéder\", 1), ('renseignées,', 1), ('inerte.', 1), ('renseignés,', 1), ('cliquant', 1), ('valid', 1), ('distance', 1), ('paiements', 1), ('23/04/20022', 1), ('empreinte', 1), ('150€', 1), ('recrediter', 1), ('l’aider', 1), ('particulier?', 1), ('opérations', 1), (\"qu'elles\", 1), ('actuel', 1), ('jauge?', 1), ('ellectricité', 1), ('n°0002015024', 1), ('16,83€', 1), ('algorytme', 1), ('appris', 1), ('bof', 1), ('fou', 1), ('souvient', 1), ('1zusij’’', 1), (',,clclldlclkzjsjziridjcjf’jrjvjcj', 1), ('smart', 1), ('box', 1), ('olivier', 1), ('ros', 1), ('(06/12/22)', 1), ('totatal', 1), ('80.01', 1), ('bancaire.', 1), ('conduire', 1), ('survenue???????', 1), ('identifier', 1), ('carre', 1), (\"s'arrêtait\", 1), ('15/09/1/1971', 1), ('ny', 1), ('pres', 1), ('décalée.', 1), ('?mes', 1), ('lambourg', 1), ('olivier.', 1), ('02', 1), ('1984.', 1), ('adresse:', 1), ('r', 1), ('tulipes', 1), ('59600', 1), ('maubeuge.', 1), ('email:', 1), ('lambourgo@hotmail.com', 1), ('lambourgo@gmail.com.', 1), ('tel:', 1), ('07', 1), ('89', 1), ('84', 1), ('de56,36', 1), ('balmes', 1), ('voreppe', 1), ('réserve', 1), ('barres', 1), (\"l'indication\", 1), ('05', 1), ('11', 1), ('refait', 1), ('0312', 1), ('carrefour', 1), ('réseve', 1), ('60km', 1), ('obtenue', 1), ('consomateur', 1), ('cde', 1), ('essayé', 1), ('€.', 1), ('n’y', 1), ('l’aide', 1), ('trouvé', 1), ('solution.', 1), ('assurée', 1), ('réglé.', 1), ('be', 1), ('m’informer', 1), ('joindre', 1), ('bref', 1), (\"n'importe\", 1), ('esseque', 1), ('forgotten', 1), ('password', 1), ('s’affiche', 1), ('foonctionne', 1), ('prit', 1), ('disait', 1), ('20e', 1), ('oubliée', 1), (\"d'écrire\", 1), ('deconnexion', 1), ('anniversaire', 1), ('relire', 1), (\"d'obtenir\", 1), (\"m'apportez\", 1), ('financiere', 1), ('proposé', 1), (\"l'inscription,\", 1), (\"l'envoyer\", 1), ('aurelieseux@orange.fr', 1), ('min', 1), ('réinscrire', 1), ('transformer', 1), ('quesque', 1), ('changée', 1), ('martial.lavigne10@gmail.com', 1), ('moto,', 1), ('reservoir', 1), ('16l~', 1), ('vente', 1), ('bois', 1), ('gagné', 1), ('watch', 1), ('complement', 1), ('lizle', 1), (\"l'hadésion\", 1), ('000660347', 1), ('remplaçant', 1), ('parvenue', 1), ('midi', 1), ('0000573476', 1), ('données?', 1), ('0000579015', 1), ('wallet.', 1), ('duplicat', 1), ('réinscrit', 1), ('normale', 1), ('défectueuse', 1), ('tentative', 1), ('dégoûté', 1), (\"j'abandonne\", 1), ('pzs', 1), ('57', 1), ('pkoi', 1), ('fonctioooonnne', 1), ('pâs', 1), ('dfepuis', 1), ('légérement', 1), ('écorneé.', 1), ('pécule', 1), ('dépensé', 1), ('foctione', 1), ('bugue', 1), ('débité,', 1), ('fonctionné', 1), ('erreure', 1), ('questinnaire', 1), ('habitude', 1), ('davoir', 1), ('reponse', 1), ('efficace', 1), ('robotisee', 1), ('serait-il', 1), ('jours?', 1), ('équipes', 1), ('venues', 1), ('1cts/litres', 1), ('arrivés', 1), ('négatif', 1), ('fourniture', 1), ('auprès', 1), ('totalenergie.', 1), (\"d'essence.\", 1), ('or,', 1), ('dessus.', 1), ('réactivé', 1), ('concours', 1), ('status', 1), ('prévus', 1), ('adhésion,comment', 1), ('faire.merci', 1), ('59litre', 1), ('badge', 1), ('regardé', 1), ('quarantaine', 1), ('exact', 1), ('moin', 1), ('ue', 1), ('5euros', 1), ('62', 1), ('lourds', 1), ('celui', 1), ('temps?', 1), ('☹️', 1), (\"d'offre\", 1), ('venue', 1), ('augmenter', 1), ('plafond', 1), ('matérialiser', 1), ('activée', 1), (\"d'il\", 1), ('22h', 1), ('31', 1), ('cagyest', 1), ('sarl', 1), ('recupéré', 1), ('remonter', 1), (\"l'info\", 1), ('vas', 1), ('perdu?', 1), ('etre', 1), ('utlisable?', 1), ('titula', 1), ('le.modifier', 1), ('donnée', 1), ('optimal', 1), ('quels', 1), ('t’on', 1), ('éligible.', 1), ('0001754212', 1), ('utilisation', 1), ('conserver', 1), (\"j'espère\", 1), ('regrouper', 1), ('sélectionné', 1), ('pourrais-je', 1), ('sujet?', 1), ('retard', 1), ('ke', 1), ('essaye', 1), ('metre', 1), ('adress', 1), ('aucain', 1), ('susse', 1), ('abonnée', 1), ('creuses', 1), (',il', 1), ('pas.aussi', 1), ('colère,', 1), ('premier', 1), ('janvier,', 1), ('four', 1), ('fonctionné,', 1), ('obligée', 1), ('d\"aller', 1), ('voisine', 1), ('cuire', 1), ('volaille.', 1), ('trouvez', 1), ('croyez', 1), ('rapidement,', 1), ('dirigerais', 1), ('d\"', 1), ('zero', 1), ('04/05/2022', 1), ('62€', 1), ('correcte', 1), (\"n'apparait\", 1), ('qu’est-ce', 1), ('spa', 1), ('produits', 1), ('semblque', 1), ('ceka', 1), ('lacarte', 1), ('peut-il', 1), ('enfant', 1), ('léger', 1), ('types', 1), ('remboursé', 1), ('fois.', 1), ('dessous,', 1), ('perdsu', 1), ('quellle', 1), ('promtionel', 1), ('encours', 1), ('m’aperçois', 1), ('n’ont', 1), ('effectués.', 1), ('engie', 1), (\"m'inscrire\", 1), ('disent', 1), ('calculé', 1), ('7', 1), ('offerts.', 1), ('points,', 1), ('non?', 1), ('cash', 1), ('d’activer', 1), ('quelqu', 1), ('serve', 1), ('de.bonus', 1), ('réclamerpoints', 1), ('carteclub', 1), ('catégorie', 1), ('recommandations', 1), (\"d'afficher\", 1), (\"n'avoir\", 1), (\"l'employer\", 1), ('devant', 1), ('prenant', 1), (\"l'aire\", 1), (\"l'autoroute\", 1), ('a65', 1), (\"l'adour\", 1), ('passage,', 1), ('statuon', 1), ('adblue', 1), ('suce', 1), ('go,', 1), ('pensais', 1), ('règler', 1), ('(crédité', 1), ('euros).', 1), ('doute', 1), ('manip.', 1), ('36', 1), ('cents', 1), ('procédure', 1), ('réponse.cdt', 1), ('déja', 1), ('européenne', 1), ('chaleur', 1), ('eur', 1), ('téléchargé', 1), ('42', 1), ('gr', 1), ('tard\"', 1), ('toukours', 1), ('action', 1), ('envoyée', 1), ('bnj', 1), ('texto', 1), ('jusqu', 1), ('2033', 1), ('vrai', 1), ('passe.lorsque', 1), (\"j'indique\", 1), ('survenue,', 1), ('tard.que', 1), ('ferai', 1), ('dorenavant', 1), ('biais', 1), ('employeur', 1), ('électrique.', 1), ('l’une', 1), ('immédiatement', 1), ('borne?', 1), ('fu', 1), ('sommes', 1), ('societe', 1), ('man', 1), ('utilitaires', 1), ('don’t', 1), ('inglish', 1), ('ouvrez', 1), ('attention,', 1), ('h,', 1), ('invalidée.', 1), ('_xD83E__xDD14_', 1), ('bakadi', 1), ('adil', 1), ('boulevard', 1), ('pasteur', 1), ('saint', 1), ('étienne', 1), ('0001552137', 1), ('iphone', 1), ('13.', 1), ('l’appli,', 1), ('actualisation', 1), ('(j’ai', 1), ('jusqu’au', 1), ('22/04/22', 1), ('!!!', 1), ('station,', 1), ('signalé', 1), ('amélioration', 1), ('réalise', 1), ('pont-du-chateau', 1), ('63', 1), ('bloquéee', 1), ('semaine,', 1), ('apparait', 1), ('forme', 1), ('programmation', 1), ('est-elle', 1), ('lisez', 1), ('aider', 1), ('sanz.sb22@orange.fr', 1), ('49passages', 1), ('moyenne', 1), ('25litres', 1), ('totalisé', 1), ('34points', 1), ('!!!!????', 1), ('rembobine', 1), ('professionel', 1), ('annuler', 1), ('dois-', 1), ('longue', 1), ('fioul', 1), ('boites', 1), ('differentes', 1), ('compliquer', 1), ('baissé', 1), ('profité', 1), ('ja', 1), ('ajoutée', 1), (\"l'ia\", 1), ('01360377', 1), ('porter', 1), ('gérante', 1), ('envoyant', 1), ('pallier', 1), ('partout', 1), ('endraits', 1), ('obligatoires', 1), ('remplir,', 1), ('sens', 1), ('interdit', 1), ('tentatives', 1), ('inscription,', 1), ('devrais-je', 1), ('réessayer.', 1), ('aurais-je', 1), (\"y'a\", 1), ('vitrine', 1), ('virtuelle', 1), ('visionner', 1), ('auquel', 1), ('aliwassim80*', 1), ('béziers', 1), ('cv', 1), ('mdpasse,', 1), ('vain', 1), ('chnager', 1), ('1972', 1), ('paris', 1), ('bmwjulienjennifer', 1), ('munnero', 1), ('profession', 1), ('mortelle', 1), ('quatre-vingt-huit', 1), ('rentres', 1), ('juge', 1), ('entiendo', 1), ('esta', 1), ('fallando.', 1), ('podré', 1), ('obtener', 1), ('tarjeta?', 1), ('app', 1), ('working?', 1), ('l’inscription', 1), ('égaré', 1), (\"m'avez\", 1), ('courant', 1), (\"l'annuler\", 1), ('éventuellement', 1), ('beaucoup,', 1), ('cordialement,', 1), ('tonino', 1), ('zampatti', 1), ('0608848362', 1), (\"d'ancienneté\", 1), ('dhaina', 1), ('rachid', 1), ('carbu', 1), ('l’erreur', 1), ('qu’est', 1), ('n•', 1), ('libellé', 1), ('conducteurs', 1), ('cars', 1), ('suis?', 1), ('jeter', 1), ('jaude', 1), ('marqué', 1), ('devait', 1), ('installer', 1), ('crediter', 1), ('excelsium', 1), ('connecter,', 1), ('revient', 1), ('identifiants', 1), ('voter', 1), ('mappelle', 1), ('robert', 1), ('etv', 1), ('poiruoi', 1), ('19', 1), ('milliard', 1), ('bennefisse', 1), ('baisser', 1), ('leprix', 1), ('endroit,', 1), (\"d'impression\", 1), ('tal', 1), ('qu’avant', 1), ('cofee', 1), ('procurer', 1), ('acce', 1), ('cree', 1), ('lecpt', 1), ('noël?', 1), (\"l'essence,\", 1), ('120points', 1), ('frofil', 1), ('75%', 1), ('l’essence?', 1), ('colère', 1), (\"j'envoie\", 1), ('dégoûtée', 1), ('j’essaie', 1), ('qu’une', 1), ('s’est', 1), ('produite', 1), ('laisser', 1), (\"d'information\", 1), ('05.61.44.53.25', 1), ('découvre', 1), ('grâce', 1), ('essence,', 1), ('savez-vous', 1), ('débloquer', 1), ('seulement', 1), ('effectués', 1), ('problème,', 1), ('cité', 1), ('liste', 1), ('assistances', 1), ('charge,', 1), ('avez-vous', 1), ('nécessaires', 1), ('part?', 1), ('parrain', 1), ('jusqu’à', 1), ('demain', 1), ('garagiste', 1), ('déplacer', 1), ('lot', 1), ('généreux', 1), ('ratio', 1), ('revoir', 1), ('différence', 1), ('totalenergies,', 1), ('passe.', 1), ('clubs', 1), ('android', 1), ('где', 1), ('я', 1), ('могу', 1), ('посмотреть', 1), ('количество', 1), ('боллов?', 1), (\"l'achat\", 1), ('bouteille', 1), ('butane', 1), ('kg?', 1), ('100%', 1), ('cases', 1), ('mots', 1), ('accessibles', 1), ('95%.', 1), ('0100271057;', 1), ('reconnaitre.', 1), (\"n'ininfos\", 1), ('réponses', 1), ('paraissent', 1), ('délaie', 1), ('ui', 1), ('ravitaillement', 1), ('wrong', 1), ('link', 1), ('re9ois', 1), ('@', 1), ('boïte', 1), ('anthalie.bonnel@orange.fr,', 1), ('0100358457', 1), ('atmane75@live.fr', 1), ('j’aimerais', 1), ('collaborateur', 1), ('debloque', 1), ('jamis', 1), ('clib', 1), ('utilisé?', 1), ('creuver', 1), ('gacem', 1), ('mohammed', 1), ('algeria', 1), ('tine', 1), ('resté', 1), ('plaî', 1), ('vs', 1), ('plait', 1), ('serviettes?', 1), ('outil', 1), ('dormir', 1), ('neux', 1), ('suis-je', 1), ('photo', 1), ('pro?', 1), ('paiment', 1), ('’,,,,.,,!..', 1), ('gerant', 1), ('delivrer', 1), ('auto', 1), ('resevoir', 1), ('0000245763', 1), (\"l'avait\", 1), ('nouveau.', 1), ('0001376697', 1), ('normal.', 1), ('alerter', 1), ('dgccrf', 1), (\"n'inscrit\", 1), ('chalus', 1), ('15,51', 1), ('utilisable', 1), ('avancement', 1), ('renouvellement', 1), ('vol.', 1), ('48', 1), ('bosgouet,', 1), ('fassent', 1), ('leur', 1), ('repas', 1), ('mudi.', 1), ('directeur,', 1), ('connais,', 1), ('beuzeville', 1), ('egalement', 1), ('a13,', 1), ('montrant', 1), ('joge', 1), ('avancer', 1), ('0000605005', 1), ('ymdavid20@gmail.com', 1), ('eles', 1), (\"m'aider\", 1), ('utlisier', 1), ('différentes', 1), ('n’accumule', 1), ('pouvons', 1), ('maj', 1), ('svp.', 1), ('cdlt.', 1), ('feet', 1), ('num', 1), ('0100613180', 1), ('formation', 1), ('60e', 1), ('credits', 1), (\"d'autocar\", 1), ('tourisme', 1), ('permets', 1), ('notamment', 1), ('point.', 1), ('part,', 1), ('ouen', 1), ('l’aumône', 1), ('15h52', 1), ('(rn', 1), ('184-zi', 1), ('vert', 1), ('galant).', 1), ('grande', 1), ('aperçu', 1), ('(', 1), ('débité', 1), ('chocolat,', 1), (\"qu'1\", 1), ('commande.', 1), ('détail', 1), ('promotionnelles', 1), ('serveur', 1), ('adéhsion', 1), ('m’indique', 1), ('étape', 1), ('périme', 1), ('taxi', 1), ('joker', 1), ('300l', 1), (\"d'essence,\", 1), ('hélas', 1), ('mieux,', 1), ('ecrit', 1), ('verrouillé', 1), ('tres', 1), ('compliqué', 1), ('ls', 1), ('immédiat', 1)]\n"
     ]
    }
   ],
   "source": [
    "text = \" \".join(df_docs[\"question\"].tolist())\n",
    "words = text.split()\n",
    "fdist1 = FreqDist(words)\n",
    "print(fdist1.most_common())"
   ]
  },
  {
   "cell_type": "code",
   "execution_count": 5,
   "metadata": {},
   "outputs": [
    {
     "ename": "ModuleNotFoundError",
     "evalue": "No module named 'spacy_cld'",
     "output_type": "error",
     "traceback": [
      "\u001b[0;31m---------------------------------------------------------------------------\u001b[0m",
      "\u001b[0;31mModuleNotFoundError\u001b[0m                       Traceback (most recent call last)",
      "Cell \u001b[0;32mIn[5], line 2\u001b[0m\n\u001b[1;32m      1\u001b[0m \u001b[39mimport\u001b[39;00m \u001b[39mspacy\u001b[39;00m\n\u001b[0;32m----> 2\u001b[0m \u001b[39mfrom\u001b[39;00m \u001b[39mspacy_cld\u001b[39;00m \u001b[39mimport\u001b[39;00m LanguageDetector\n\u001b[1;32m      4\u001b[0m nlp \u001b[39m=\u001b[39m spacy\u001b[39m.\u001b[39mload(\u001b[39m'\u001b[39m\u001b[39men\u001b[39m\u001b[39m'\u001b[39m)\n\u001b[1;32m      5\u001b[0m language_detector \u001b[39m=\u001b[39m LanguageDetector()\n",
      "\u001b[0;31mModuleNotFoundError\u001b[0m: No module named 'spacy_cld'"
     ]
    }
   ],
   "source": [
    "import spacy\n",
    "from spacy_cld import LanguageDetector\n",
    "\n",
    "nlp = spacy.load('en')\n",
    "language_detector = LanguageDetector()\n",
    "nlp.add_pipe(language_detector)\n",
    "\n",
    "tweets          = df['tweets']\n",
    "languages_spacy = []\n",
    "\n",
    "for e in tweets:\n",
    "    doc = nlp(e)\n",
    "    # cheking if the doc._.languages is not empty\n",
    "    # then appending the first detected language in a list\n",
    "    if(doc._.languages):\n",
    "        languages_spacy.append(doc._.languages[0])\n",
    "    # if it is empty, we append the list by unknown\n",
    "    else:\n",
    "        languages_spacy.append('unknown')"
   ]
  },
  {
   "attachments": {},
   "cell_type": "markdown",
   "metadata": {},
   "source": [
    "# Custom Model Test"
   ]
  },
  {
   "cell_type": "code",
   "execution_count": null,
   "metadata": {},
   "outputs": [],
   "source": [
    "list_context_sw = [\n",
    "    \"ca\",\n",
    "    \"ok\",\n",
    "    \"dj\",\n",
    "    \"quil\",\n",
    "    \"tjrs\",\n",
    "    \"tjr\",\n",
    "    \"aussitt\",\n",
    "    \"bnjr\",\n",
    "    \"ner\",\n",
    "    \"jer\",\n",
    "    \"nest\",\n",
    "    \"déjà\",\n",
    "    \"jen\",\n",
    "    \"salam\",\n",
    "    \"bcp\",\n",
    "    \"cordiale\",\n",
    "    \"cordialement\",\n",
    "    \"quelqu\",\n",
    "    \"club\",\n",
    "    \"total\",\n",
    "    \"energie\",\n",
    "    \"énergie\",\n",
    "    \"totalenergie\",\n",
    "    \"question\",\n",
    "    \"jai\",\n",
    "    \"aije\",\n",
    "    \"narrive\",\n",
    "    \"nai\",\n",
    "    \"savoir\",\n",
    "    \"estce\",\n",
    "    \"sontils\",\n",
    "    \",\",\n",
    "    \"essqu\",\n",
    "    \"cava\",\n",
    "    \"mexpliquer\",\n",
    "    \"expliquer\",\n",
    "    \"devoir\",\n",
    "    \"pouvoir\",\n",
    "    \"valider\",\n",
    "    \"vouloir\",\n",
    "    \"offrir\",\n",
    "    \"perdre\",\n",
    "    \"souhaiter\",\n",
    "    \"fonctionner\",\n",
    "    \"faire\",\n",
    "    \"utiliser\",\n",
    "    \"souscrire\",\n",
    "    \"voir\",\n",
    "    \"venir\",\n",
    "    \"reformuler\",\n",
    "    \"recevoir\"\n",
    "]\n",
    "\n",
    "language = \"french\"\n",
    "spacy_model = 'fr_core_news_md'\n",
    "transformer = \"dangvantuan/sentence-camembert-large\"\n",
    "preprocessor = Preprocessing(spacy_model, language, list_context_sw)\n",
    "\n",
    "docs_name = \"chatbot-sample\""
   ]
  },
  {
   "cell_type": "code",
   "execution_count": null,
   "metadata": {},
   "outputs": [],
   "source": [
    "docs = df_docs[\"question\"].apply(preprocessor.pipeline).tolist()"
   ]
  },
  {
   "cell_type": "code",
   "execution_count": null,
   "metadata": {},
   "outputs": [],
   "source": [
    "df_docs[\"question\"].apply(preprocessor.pipeline)"
   ]
  },
  {
   "cell_type": "code",
   "execution_count": null,
   "metadata": {},
   "outputs": [],
   "source": [
    "getFrequencyDictForText(\" \".join(docs), language, list_context_sw)"
   ]
  },
  {
   "cell_type": "code",
   "execution_count": null,
   "metadata": {},
   "outputs": [],
   "source": [
    "global_wordcloud(\" \".join(docs), language, list_context_sw)"
   ]
  },
  {
   "cell_type": "code",
   "execution_count": null,
   "metadata": {},
   "outputs": [],
   "source": [
    "# transformer_ = \"all-MiniLM-L6-v2\"\n",
    "# docs_name = \"fetch-sample\"\n",
    "# language = \"english\"\n",
    "\n",
    "# docs = fetch_20newsgroups(\n",
    "#    subset=\"all\",\n",
    "#    remove=(\"headers\", \"footers\", \"quotes\")\n",
    "#    )[\"data\"]"
   ]
  },
  {
   "cell_type": "code",
   "execution_count": null,
   "metadata": {},
   "outputs": [],
   "source": [
    "umap_model = getDimReductionModel(umap_data())\n",
    "hdbscan_model = getClusteringModel(hdbscan_data())\n",
    "vectorizer_model = getTokenizer(tokenizer_data(language=language), list_context_sw)\n",
    "ctfidf_model = getTfidfTransformers(tfidf_data())\n",
    "mmr_model = getMaximalMarginalRelevance(mmr_data())"
   ]
  },
  {
   "cell_type": "code",
   "execution_count": null,
   "metadata": {},
   "outputs": [],
   "source": [
    "bertopic_config = bertopic_data(\n",
    "    umap_model, hdbscan_model, vectorizer_model, ctfidf_model, mmr_model, nr_topics=\"auto\"\n",
    ")"
   ]
  },
  {
   "cell_type": "code",
   "execution_count": null,
   "metadata": {},
   "outputs": [],
   "source": [
    "bert_topic_inst = BERTopic_(bertopic_config)"
   ]
  },
  {
   "cell_type": "code",
   "execution_count": null,
   "metadata": {},
   "outputs": [],
   "source": [
    "bert_topic_inst.fit_or_load(transformer, docs_name, docs)"
   ]
  },
  {
   "cell_type": "code",
   "execution_count": null,
   "metadata": {},
   "outputs": [],
   "source": [
    "bert_topic_inst.visual_inference()"
   ]
  },
  {
   "cell_type": "code",
   "execution_count": null,
   "metadata": {},
   "outputs": [],
   "source": [
    "create_wordcloud(bert_topic_inst.model, 0)"
   ]
  },
  {
   "cell_type": "code",
   "execution_count": null,
   "metadata": {},
   "outputs": [],
   "source": [
    "bert_topic_inst.tabular_inference(docs)[0]"
   ]
  },
  {
   "cell_type": "code",
   "execution_count": null,
   "metadata": {},
   "outputs": [],
   "source": []
  },
  {
   "cell_type": "code",
   "execution_count": null,
   "metadata": {},
   "outputs": [],
   "source": []
  },
  {
   "cell_type": "code",
   "execution_count": null,
   "metadata": {},
   "outputs": [],
   "source": []
  }
 ],
 "metadata": {
  "kernelspec": {
   "display_name": "base",
   "language": "python",
   "name": "python3"
  },
  "language_info": {
   "codemirror_mode": {
    "name": "ipython",
    "version": 3
   },
   "file_extension": ".py",
   "mimetype": "text/x-python",
   "name": "python",
   "nbconvert_exporter": "python",
   "pygments_lexer": "ipython3",
   "version": "3.10.9"
  },
  "orig_nbformat": 4
 },
 "nbformat": 4,
 "nbformat_minor": 2
}
