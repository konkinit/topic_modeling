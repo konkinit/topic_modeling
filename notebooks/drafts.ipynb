{
 "cells": [
  {
   "cell_type": "code",
   "execution_count": 1,
   "metadata": {},
   "outputs": [
    {
     "name": "stderr",
     "output_type": "stream",
     "text": [
      "/opt/mamba/lib/python3.10/site-packages/umap/distances.py:1063: NumbaDeprecationWarning: \u001b[1mThe 'nopython' keyword argument was not supplied to the 'numba.jit' decorator. The implicit default value for this argument is currently False, but it will be changed to True in Numba 0.59.0. See https://numba.readthedocs.io/en/stable/reference/deprecation.html#deprecation-of-object-mode-fall-back-behaviour-when-using-jit for details.\u001b[0m\n",
      "  @numba.jit()\n",
      "/opt/mamba/lib/python3.10/site-packages/umap/distances.py:1071: NumbaDeprecationWarning: \u001b[1mThe 'nopython' keyword argument was not supplied to the 'numba.jit' decorator. The implicit default value for this argument is currently False, but it will be changed to True in Numba 0.59.0. See https://numba.readthedocs.io/en/stable/reference/deprecation.html#deprecation-of-object-mode-fall-back-behaviour-when-using-jit for details.\u001b[0m\n",
      "  @numba.jit()\n",
      "/opt/mamba/lib/python3.10/site-packages/umap/distances.py:1086: NumbaDeprecationWarning: \u001b[1mThe 'nopython' keyword argument was not supplied to the 'numba.jit' decorator. The implicit default value for this argument is currently False, but it will be changed to True in Numba 0.59.0. See https://numba.readthedocs.io/en/stable/reference/deprecation.html#deprecation-of-object-mode-fall-back-behaviour-when-using-jit for details.\u001b[0m\n",
      "  @numba.jit()\n",
      "/opt/mamba/lib/python3.10/site-packages/umap/umap_.py:660: NumbaDeprecationWarning: \u001b[1mThe 'nopython' keyword argument was not supplied to the 'numba.jit' decorator. The implicit default value for this argument is currently False, but it will be changed to True in Numba 0.59.0. See https://numba.readthedocs.io/en/stable/reference/deprecation.html#deprecation-of-object-mode-fall-back-behaviour-when-using-jit for details.\u001b[0m\n",
      "  @numba.jit()\n"
     ]
    },
    {
     "ename": "TypeError",
     "evalue": "non-default argument 'umap_model' follows default argument",
     "output_type": "error",
     "traceback": [
      "\u001b[0;31m---------------------------------------------------------------------------\u001b[0m",
      "\u001b[0;31mTypeError\u001b[0m                                 Traceback (most recent call last)",
      "Cell \u001b[0;32mIn[1], line 10\u001b[0m\n\u001b[1;32m      7\u001b[0m os\u001b[39m.\u001b[39mchdir(\u001b[39m\"\u001b[39m\u001b[39m../\u001b[39m\u001b[39m\"\u001b[39m)\n\u001b[1;32m      8\u001b[0m warnings\u001b[39m.\u001b[39mfilterwarnings(\u001b[39m'\u001b[39m\u001b[39mignore\u001b[39m\u001b[39m'\u001b[39m)\n\u001b[0;32m---> 10\u001b[0m \u001b[39mfrom\u001b[39;00m \u001b[39msrc\u001b[39;00m\u001b[39m.\u001b[39;00m\u001b[39mmodeling\u001b[39;00m \u001b[39mimport\u001b[39;00m BERTopic_\n\u001b[1;32m     11\u001b[0m \u001b[39mfrom\u001b[39;00m \u001b[39msrc\u001b[39;00m\u001b[39m.\u001b[39;00m\u001b[39mconfig\u001b[39;00m \u001b[39mimport\u001b[39;00m (\n\u001b[1;32m     12\u001b[0m     umap_data,\n\u001b[1;32m     13\u001b[0m     hdbscan_data,\n\u001b[0;32m   (...)\u001b[0m\n\u001b[1;32m     17\u001b[0m     bertopic_data\n\u001b[1;32m     18\u001b[0m )\n",
      "File \u001b[0;32m~/work/topic_modeling/src/__init__.py:1\u001b[0m\n\u001b[0;32m----> 1\u001b[0m \u001b[39mfrom\u001b[39;00m \u001b[39m.\u001b[39;00m\u001b[39mconfig\u001b[39;00m \u001b[39mimport\u001b[39;00m configs\n\u001b[1;32m      2\u001b[0m \u001b[39mfrom\u001b[39;00m \u001b[39m.\u001b[39;00m\u001b[39mutils\u001b[39;00m \u001b[39mimport\u001b[39;00m (\n\u001b[1;32m      3\u001b[0m     getClusteringModel,\n\u001b[1;32m      4\u001b[0m     getDimReductionModel,\n\u001b[0;32m   (...)\u001b[0m\n\u001b[1;32m     10\u001b[0m     create_wordcloud\n\u001b[1;32m     11\u001b[0m )\n\u001b[1;32m     12\u001b[0m \u001b[39mfrom\u001b[39;00m \u001b[39m.\u001b[39;00m\u001b[39mmodeling\u001b[39;00m \u001b[39mimport\u001b[39;00m bert_topic\n",
      "File \u001b[0;32m~/work/topic_modeling/src/config/__init__.py:1\u001b[0m\n\u001b[0;32m----> 1\u001b[0m \u001b[39mfrom\u001b[39;00m \u001b[39m.\u001b[39;00m\u001b[39mconfigs\u001b[39;00m \u001b[39mimport\u001b[39;00m (\n\u001b[1;32m      2\u001b[0m     umap_data,\n\u001b[1;32m      3\u001b[0m     hdbscan_data,\n\u001b[1;32m      4\u001b[0m     sent_transformers_data,\n\u001b[1;32m      5\u001b[0m     tfidf_data,\n\u001b[1;32m      6\u001b[0m     tokenizer_data,\n\u001b[1;32m      7\u001b[0m     mmr_data,\n\u001b[1;32m      8\u001b[0m     bertopic_data\n\u001b[1;32m      9\u001b[0m )\n\u001b[1;32m     12\u001b[0m __all__ \u001b[39m=\u001b[39m [\n\u001b[1;32m     13\u001b[0m     \u001b[39m\"\u001b[39m\u001b[39mumap_data\u001b[39m\u001b[39m\"\u001b[39m,\n\u001b[1;32m     14\u001b[0m     \u001b[39m\"\u001b[39m\u001b[39mhdbscan_data\u001b[39m\u001b[39m\"\u001b[39m,\n\u001b[0;32m   (...)\u001b[0m\n\u001b[1;32m     19\u001b[0m     \u001b[39m\"\u001b[39m\u001b[39mbertopic_data\u001b[39m\u001b[39m\"\u001b[39m\n\u001b[1;32m     20\u001b[0m ]\n",
      "File \u001b[0;32m~/work/topic_modeling/src/config/configs.py:43\u001b[0m\n\u001b[1;32m     38\u001b[0m     cluster_selection_method: \u001b[39mstr\u001b[39m \u001b[39m=\u001b[39m \u001b[39m\"\u001b[39m\u001b[39meom\u001b[39m\u001b[39m\"\u001b[39m\n\u001b[1;32m     39\u001b[0m     prediction_data: \u001b[39mbool\u001b[39m \u001b[39m=\u001b[39m \u001b[39mTrue\u001b[39;00m\n\u001b[1;32m     42\u001b[0m \u001b[39m@dataclass\u001b[39;49m\n\u001b[0;32m---> 43\u001b[0m \u001b[39mclass\u001b[39;49;00m \u001b[39mbertopic_data\u001b[39;49;00m:\n\u001b[1;32m     44\u001b[0m     nr_topics: \u001b[39mstr\u001b[39;49m \u001b[39m=\u001b[39;49m \u001b[39m\"\u001b[39;49m\u001b[39mauto\u001b[39;49m\u001b[39m\"\u001b[39;49m\n\u001b[1;32m     45\u001b[0m     top_n_words: \u001b[39mint\u001b[39;49m \u001b[39m=\u001b[39;49m \u001b[39m10\u001b[39;49m\n",
      "File \u001b[0;32m/opt/mamba/lib/python3.10/dataclasses.py:1184\u001b[0m, in \u001b[0;36mdataclass\u001b[0;34m(cls, init, repr, eq, order, unsafe_hash, frozen, match_args, kw_only, slots)\u001b[0m\n\u001b[1;32m   1181\u001b[0m     \u001b[39mreturn\u001b[39;00m wrap\n\u001b[1;32m   1183\u001b[0m \u001b[39m# We're called as @dataclass without parens.\u001b[39;00m\n\u001b[0;32m-> 1184\u001b[0m \u001b[39mreturn\u001b[39;00m wrap(\u001b[39mcls\u001b[39;49m)\n",
      "File \u001b[0;32m/opt/mamba/lib/python3.10/dataclasses.py:1175\u001b[0m, in \u001b[0;36mdataclass.<locals>.wrap\u001b[0;34m(cls)\u001b[0m\n\u001b[1;32m   1174\u001b[0m \u001b[39mdef\u001b[39;00m \u001b[39mwrap\u001b[39m(\u001b[39mcls\u001b[39m):\n\u001b[0;32m-> 1175\u001b[0m     \u001b[39mreturn\u001b[39;00m _process_class(\u001b[39mcls\u001b[39;49m, init, \u001b[39mrepr\u001b[39;49m, eq, order, unsafe_hash,\n\u001b[1;32m   1176\u001b[0m                           frozen, match_args, kw_only, slots)\n",
      "File \u001b[0;32m/opt/mamba/lib/python3.10/dataclasses.py:1024\u001b[0m, in \u001b[0;36m_process_class\u001b[0;34m(cls, init, repr, eq, order, unsafe_hash, frozen, match_args, kw_only, slots)\u001b[0m\n\u001b[1;32m   1019\u001b[0m \u001b[39mif\u001b[39;00m init:\n\u001b[1;32m   1020\u001b[0m     \u001b[39m# Does this class have a post-init function?\u001b[39;00m\n\u001b[1;32m   1021\u001b[0m     has_post_init \u001b[39m=\u001b[39m \u001b[39mhasattr\u001b[39m(\u001b[39mcls\u001b[39m, _POST_INIT_NAME)\n\u001b[1;32m   1023\u001b[0m     _set_new_attribute(\u001b[39mcls\u001b[39m, \u001b[39m'\u001b[39m\u001b[39m__init__\u001b[39m\u001b[39m'\u001b[39m,\n\u001b[0;32m-> 1024\u001b[0m                        _init_fn(all_init_fields,\n\u001b[1;32m   1025\u001b[0m                                 std_init_fields,\n\u001b[1;32m   1026\u001b[0m                                 kw_only_init_fields,\n\u001b[1;32m   1027\u001b[0m                                 frozen,\n\u001b[1;32m   1028\u001b[0m                                 has_post_init,\n\u001b[1;32m   1029\u001b[0m                                 \u001b[39m# The name to use for the \"self\"\u001b[39;49;00m\n\u001b[1;32m   1030\u001b[0m                                 \u001b[39m# param in __init__.  Use \"self\"\u001b[39;49;00m\n\u001b[1;32m   1031\u001b[0m                                 \u001b[39m# if possible.\u001b[39;49;00m\n\u001b[1;32m   1032\u001b[0m                                 \u001b[39m'\u001b[39;49m\u001b[39m__dataclass_self__\u001b[39;49m\u001b[39m'\u001b[39;49m \u001b[39mif\u001b[39;49;00m \u001b[39m'\u001b[39;49m\u001b[39mself\u001b[39;49m\u001b[39m'\u001b[39;49m \u001b[39min\u001b[39;49;00m fields\n\u001b[1;32m   1033\u001b[0m                                         \u001b[39melse\u001b[39;49;00m \u001b[39m'\u001b[39;49m\u001b[39mself\u001b[39;49m\u001b[39m'\u001b[39;49m,\n\u001b[1;32m   1034\u001b[0m                                 \u001b[39mglobals\u001b[39;49m,\n\u001b[1;32m   1035\u001b[0m                                 slots,\n\u001b[1;32m   1036\u001b[0m                       ))\n\u001b[1;32m   1038\u001b[0m \u001b[39m# Get the fields as a list, and include only real fields.  This is\u001b[39;00m\n\u001b[1;32m   1039\u001b[0m \u001b[39m# used in all of the following methods.\u001b[39;00m\n\u001b[1;32m   1040\u001b[0m field_list \u001b[39m=\u001b[39m [f \u001b[39mfor\u001b[39;00m f \u001b[39min\u001b[39;00m fields\u001b[39m.\u001b[39mvalues() \u001b[39mif\u001b[39;00m f\u001b[39m.\u001b[39m_field_type \u001b[39mis\u001b[39;00m _FIELD]\n",
      "File \u001b[0;32m/opt/mamba/lib/python3.10/dataclasses.py:544\u001b[0m, in \u001b[0;36m_init_fn\u001b[0;34m(fields, std_fields, kw_only_fields, frozen, has_post_init, self_name, globals, slots)\u001b[0m\n\u001b[1;32m    542\u001b[0m             seen_default \u001b[39m=\u001b[39m \u001b[39mTrue\u001b[39;00m\n\u001b[1;32m    543\u001b[0m         \u001b[39melif\u001b[39;00m seen_default:\n\u001b[0;32m--> 544\u001b[0m             \u001b[39mraise\u001b[39;00m \u001b[39mTypeError\u001b[39;00m(\u001b[39mf\u001b[39m\u001b[39m'\u001b[39m\u001b[39mnon-default argument \u001b[39m\u001b[39m{\u001b[39;00mf\u001b[39m.\u001b[39mname\u001b[39m!r}\u001b[39;00m\u001b[39m \u001b[39m\u001b[39m'\u001b[39m\n\u001b[1;32m    545\u001b[0m                             \u001b[39m'\u001b[39m\u001b[39mfollows default argument\u001b[39m\u001b[39m'\u001b[39m)\n\u001b[1;32m    547\u001b[0m \u001b[39mlocals\u001b[39m \u001b[39m=\u001b[39m {\u001b[39mf\u001b[39m\u001b[39m'\u001b[39m\u001b[39m_type_\u001b[39m\u001b[39m{\u001b[39;00mf\u001b[39m.\u001b[39mname\u001b[39m}\u001b[39;00m\u001b[39m'\u001b[39m: f\u001b[39m.\u001b[39mtype \u001b[39mfor\u001b[39;00m f \u001b[39min\u001b[39;00m fields}\n\u001b[1;32m    548\u001b[0m \u001b[39mlocals\u001b[39m\u001b[39m.\u001b[39mupdate({\n\u001b[1;32m    549\u001b[0m     \u001b[39m'\u001b[39m\u001b[39mMISSING\u001b[39m\u001b[39m'\u001b[39m: MISSING,\n\u001b[1;32m    550\u001b[0m     \u001b[39m'\u001b[39m\u001b[39m_HAS_DEFAULT_FACTORY\u001b[39m\u001b[39m'\u001b[39m: _HAS_DEFAULT_FACTORY,\n\u001b[1;32m    551\u001b[0m     \u001b[39m'\u001b[39m\u001b[39m__dataclass_builtins_object__\u001b[39m\u001b[39m'\u001b[39m: \u001b[39mobject\u001b[39m,\n\u001b[1;32m    552\u001b[0m })\n",
      "\u001b[0;31mTypeError\u001b[0m: non-default argument 'umap_model' follows default argument"
     ]
    }
   ],
   "source": [
    "import os\n",
    "import warnings\n",
    "\n",
    "from bertopic import BERTopic\n",
    "from sklearn.datasets import fetch_20newsgroups\n",
    "\n",
    "os.chdir(\"../\")\n",
    "warnings.filterwarnings('ignore')\n",
    "\n",
    "from src.modeling import BERTopic_\n",
    "from src.config import (\n",
    "    umap_data,\n",
    "    hdbscan_data,\n",
    "    tfidf_data,\n",
    "    tokenizer_data,\n",
    "    mmr_data,\n",
    "    bertopic_data\n",
    ")"
   ]
  },
  {
   "cell_type": "code",
   "execution_count": null,
   "metadata": {},
   "outputs": [],
   "source": [
    "# transformers_params = sent_transformers_params()\n",
    "# getEmbeddings(transformers_params, \"test\", \"je suis un scientifique des données\")"
   ]
  },
  {
   "attachments": {},
   "cell_type": "markdown",
   "metadata": {},
   "source": [
    "# BERTopic model draft"
   ]
  },
  {
   "cell_type": "code",
   "execution_count": null,
   "metadata": {},
   "outputs": [],
   "source": [
    "docs = fetch_20newsgroups(subset='all',  remove=('headers', 'footers', 'quotes'))['data'][:50]"
   ]
  },
  {
   "cell_type": "code",
   "execution_count": null,
   "metadata": {},
   "outputs": [],
   "source": [
    "topic_model = BERTopic()\n",
    "topics, probs = topic_model.fit_transform(docs)"
   ]
  },
  {
   "cell_type": "code",
   "execution_count": null,
   "metadata": {},
   "outputs": [],
   "source": [
    "# topic_model.get_topic_info()"
   ]
  },
  {
   "cell_type": "code",
   "execution_count": null,
   "metadata": {},
   "outputs": [],
   "source": [
    "# topic_model.get_document_info(docs)"
   ]
  },
  {
   "cell_type": "code",
   "execution_count": null,
   "metadata": {},
   "outputs": [],
   "source": [
    "# topic_model.visualize_heatmap()"
   ]
  },
  {
   "attachments": {},
   "cell_type": "markdown",
   "metadata": {},
   "source": [
    "# Custom Model Test"
   ]
  },
  {
   "cell_type": "code",
   "execution_count": null,
   "metadata": {},
   "outputs": [],
   "source": [
    "from src.config import (\n",
    "    umap_data,\n",
    "    hdbscan_data,\n",
    "    tokenizer_data,\n",
    "    tfidf_data,\n",
    "    mmr_data\n",
    ")\n",
    "\n",
    "from src.utils import (\n",
    "    getClusteringModel,\n",
    "    getDimReductionModel,\n",
    "    getMaximalMarginalRelevance,\n",
    "    getTfidfTransformers,\n",
    "    getTokenizer,\n",
    "    getEmbeddings\n",
    ")\n",
    "\n",
    "umap_model_ = getDimReductionModel(umap_params)\n",
    "hdbscan_model_ = getClusteringModel(hdbscan_params)\n",
    "vectorizer_model_ = getTokenizer(tokenizer_params)\n",
    "ctfidf_model_ = getTfidfTransformers(tfidf_params)\n",
    "mmr_model_ = getMaximalMarginalRelevance(mmr_params)"
   ]
  },
  {
   "cell_type": "code",
   "execution_count": null,
   "metadata": {},
   "outputs": [],
   "source": []
  }
 ],
 "metadata": {
  "kernelspec": {
   "display_name": "base",
   "language": "python",
   "name": "python3"
  },
  "language_info": {
   "codemirror_mode": {
    "name": "ipython",
    "version": 3
   },
   "file_extension": ".py",
   "mimetype": "text/x-python",
   "name": "python",
   "nbconvert_exporter": "python",
   "pygments_lexer": "ipython3",
   "version": "3.10.9"
  },
  "orig_nbformat": 4
 },
 "nbformat": 4,
 "nbformat_minor": 2
}
